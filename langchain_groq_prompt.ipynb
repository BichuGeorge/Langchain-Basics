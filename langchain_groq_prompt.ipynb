{
 "cells": [
  {
   "cell_type": "code",
   "execution_count": 11,
   "metadata": {},
   "outputs": [
    {
     "data": {
      "text/plain": [
       "'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'"
      ]
     },
     "execution_count": 11,
     "metadata": {},
     "output_type": "execute_result"
    }
   ],
   "source": [
    "import os\n",
    "from dotenv import load_dotenv\n",
    "from langchain_core.prompts import PromptTemplate\n",
    "from langchain_core.prompts import ChatPromptTemplate\n",
    "from langchain_groq import ChatGroq\n",
    "load_dotenv()\n",
    "groq_key = os.getenv(\"GROQ\")\n",
    "groq_key"
   ]
  },
  {
   "cell_type": "code",
   "execution_count": 8,
   "metadata": {},
   "outputs": [],
   "source": [
    "prompt_template = PromptTemplate.from_template(\n",
    "    \"Tell me a {adjective} story about {topic}\"\n",
    ")\n",
    "llmModelPromt = prompt_template.format(\n",
    "    adjective=\"funny\",\n",
    "    topic=\"hollywood\"\n",
    ")\n",
    "groq_model = ChatGroq(\n",
    "    model=\"llama3-70b-8192\",\n",
    "    groq_api_key=groq_key)"
   ]
  },
  {
   "cell_type": "code",
   "execution_count": 9,
   "metadata": {},
   "outputs": [],
   "source": [
    "response = groq_model.invoke(llmModelPromt)"
   ]
  },
  {
   "cell_type": "code",
   "execution_count": 10,
   "metadata": {},
   "outputs": [
    {
     "data": {
      "text/plain": [
       "'Here\\'s one:\\n\\nSo, back in the 1930s, there was a famous Hollywood director named Cecil B. DeMille. He was known for his epic films, like \"The Ten Commandments\" and \"Samson and Delilah\". He was also known for being a bit of a, shall we say, \"character\".\\n\\nOne day, DeMille was on the set of his latest film, \"The Buccaneer\", starring Fredric March and Franciska Gaal. The scene they were shooting involved a big battle between the pirates and the British Navy, with cannons blazing, swords clashing, and actors running around like madmen.\\n\\nAs the cameras rolled, DeMille suddenly jumped out of his director\\'s chair, grabbed a megaphone, and started yelling at the top of his lungs: \"MORE BLOOD! MORE GUTS! MORE EXPLOSIONS!\"\\n\\nThe actors and crew were taken aback, but they tried to comply. However, things quickly got out of hand. The special effects team got a bit too enthusiastic with the pyrotechnics, and soon the entire set was engulfed in flames.\\n\\nThe actors were running around, screaming and waving their arms, while DeMille was still yelling through the megaphone: \"MORE CHAOS! MORE PANDEMONIUM!\"\\n\\nFredric March, the star of the film, finally had enough. He strode up to DeMille, grabbed the megaphone out of his hand, and shouted back: \"CECIL, YOU\\'RE ON FIRE!\"\\n\\nDeMille looked down, saw that his pants were indeed ablaze, and calmly replied: \"Oh, that\\'s just a little something I\\'m trying out for the scene. Carry on, everyone!\"\\n\\nThe crew couldn\\'t help but burst out laughing, and the take had to be abandoned. But DeMille was undeterred. He just shrugged, put out the flames, and said: \"Well, I guess we\\'ll just have to try that one again tomorrow.\"\\n\\nThat\\'s Hollywood, folks!'"
      ]
     },
     "execution_count": 10,
     "metadata": {},
     "output_type": "execute_result"
    }
   ],
   "source": [
    "response.content"
   ]
  },
  {
   "cell_type": "markdown",
   "metadata": {},
   "source": [
    "## Chat model"
   ]
  },
  {
   "cell_type": "code",
   "execution_count": 15,
   "metadata": {},
   "outputs": [],
   "source": [
    "chat_template = ChatPromptTemplate.from_messages(\n",
    "    [\n",
    "        (\"system\", \"You are a {profession} expert on {topic}.\"),\n",
    "        (\"human\", \"Hello, Mr. {profession}, can you please answer a question?\"),\n",
    "        (\"ai\", \"Sure!\"),\n",
    "        (\"human\", \"{user_input}\"),\n",
    "    ]\n",
    ")\n",
    "messages = chat_template.format_messages(\n",
    "    profession=\"Historian\",\n",
    "    topic=\"The Kennedy Family\",\n",
    "    user_input=\"How many grandchildren had Joseph P. Kennedy?\"\n",
    ")"
   ]
  },
  {
   "cell_type": "code",
   "execution_count": 17,
   "metadata": {},
   "outputs": [
    {
     "data": {
      "text/plain": [
       "AIMessage(content='Joseph P. Kennedy, the patriarch of the Kennedy family, had a total of 29 grandchildren. His nine children, including John F. Kennedy, Robert F. Kennedy, Ted Kennedy, and their siblings, had a large brood of kids, and Joe Sr. was known to be very close to his grandkids. In fact, he was often referred to as \"Grandpa Joe\" by his grandchildren, who adored him.', additional_kwargs={}, response_metadata={'token_usage': {'completion_tokens': 89, 'prompt_tokens': 61, 'total_tokens': 150, 'completion_time': 0.282378369, 'prompt_time': 0.001748666, 'queue_time': 0.060148812999999995, 'total_time': 0.284127035}, 'model_name': 'llama3-70b-8192', 'system_fingerprint': 'fp_2e0feca3c9', 'finish_reason': 'stop', 'logprobs': None}, id='run-bd557ff6-fe86-4eac-abcc-0af3c82e2d47-0', usage_metadata={'input_tokens': 61, 'output_tokens': 89, 'total_tokens': 150})"
      ]
     },
     "execution_count": 17,
     "metadata": {},
     "output_type": "execute_result"
    }
   ],
   "source": [
    "response = groq_model.invoke(messages)\n",
    "response"
   ]
  },
  {
   "cell_type": "markdown",
   "metadata": {},
   "source": [
    "## Prompts and Prompt Templates"
   ]
  },
  {
   "cell_type": "code",
   "execution_count": 20,
   "metadata": {},
   "outputs": [],
   "source": [
    "## Few Shot Prompting\n",
    "from langchain_core.prompts import FewShotChatMessagePromptTemplate\n",
    "examples = [\n",
    "    {\"input\": \"hi!\", \"output\": \"ihola!\"},\n",
    "    {\"input\": \"bye!\", \"output\": \"iadios!\"}\n",
    "]\n",
    "example_prompt = ChatPromptTemplate.from_messages(\n",
    "    [\n",
    "        (\"human\", \"{input}\"),\n",
    "        (\"ai\", \"{output}\")\n",
    "    ]\n",
    ")"
   ]
  },
  {
   "cell_type": "code",
   "execution_count": 25,
   "metadata": {},
   "outputs": [],
   "source": [
    "few_shot_promt = FewShotChatMessagePromptTemplate(\n",
    "    examples=examples,\n",
    "    example_prompt=example_prompt\n",
    ")\n",
    "final_promt = ChatPromptTemplate.from_messages(\n",
    "    [\n",
    "        (\"system\", \"Youa are an English-Spanish translator.\"),\n",
    "        few_shot_promt,\n",
    "        (\"human\", \"{input}\")\n",
    "    ]\n",
    ")\n",
    "input_text = \"I am learning programming.\""
   ]
  },
  {
   "cell_type": "code",
   "execution_count": 26,
   "metadata": {},
   "outputs": [
    {
     "data": {
      "text/plain": [
       "AIMessage(content=\"¡Estoy emocionado de escucharlo! (I'm excited to hear that!) ¿Qué lenguaje de programación estás aprendiendo? (What programming language are you learning?)\", additional_kwargs={}, response_metadata={'token_usage': {'completion_tokens': 41, 'prompt_tokens': 48, 'total_tokens': 89, 'completion_time': 0.124443848, 'prompt_time': 0.001232008, 'queue_time': 0.0717794, 'total_time': 0.125675856}, 'model_name': 'llama3-70b-8192', 'system_fingerprint': 'fp_2e0feca3c9', 'finish_reason': 'stop', 'logprobs': None}, id='run-6bf30a29-aed3-47e4-9fff-b9dee4a5620a-0', usage_metadata={'input_tokens': 48, 'output_tokens': 41, 'total_tokens': 89})"
      ]
     },
     "execution_count": 26,
     "metadata": {},
     "output_type": "execute_result"
    }
   ],
   "source": [
    "response = groq_model.invoke(final_promt.format(input=input_text))\n",
    "response"
   ]
  }
 ],
 "metadata": {
  "kernelspec": {
   "display_name": "langchaingroq",
   "language": "python",
   "name": "python3"
  },
  "language_info": {
   "codemirror_mode": {
    "name": "ipython",
    "version": 3
   },
   "file_extension": ".py",
   "mimetype": "text/x-python",
   "name": "python",
   "nbconvert_exporter": "python",
   "pygments_lexer": "ipython3",
   "version": "3.10.0"
  }
 },
 "nbformat": 4,
 "nbformat_minor": 2
}
