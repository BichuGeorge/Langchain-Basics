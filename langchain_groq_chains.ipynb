{
 "cells": [
  {
   "cell_type": "code",
   "execution_count": 1,
   "metadata": {},
   "outputs": [
    {
     "data": {
      "text/plain": [
       "'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'"
      ]
     },
     "execution_count": 1,
     "metadata": {},
     "output_type": "execute_result"
    }
   ],
   "source": [
    "from langchain.prompts import PromptTemplate\n",
    "from langchain.chains import LLMChain\n",
    "from langchain_groq import ChatGroq\n",
    "from langchain.chains import SimpleSequentialChain\n",
    "from langchain.chains import SequentialChain\n",
    "from dotenv import load_dotenv\n",
    "import os\n",
    "load_dotenv()\n",
    "groq_key = os.getenv(\"GROQ\")\n",
    "groq_key"
   ]
  },
  {
   "cell_type": "code",
   "execution_count": null,
   "metadata": {},
   "outputs": [],
   "source": [
    "promt_template_name = PromptTemplate(\n",
    "    input_variables=['cuisine'],\n",
    "    template=\"I want to open a restaurant for {cuisine} food. Suggest a fancy name for this.\"   \n",
    ")\n"
   ]
  },
  {
   "cell_type": "code",
   "execution_count": 3,
   "metadata": {},
   "outputs": [],
   "source": [
    "groq_model = ChatGroq(\n",
    "    model=\"llama3-70b-8192\",\n",
    "    groq_api_key=groq_key)"
   ]
  },
  {
   "cell_type": "code",
   "execution_count": 9,
   "metadata": {},
   "outputs": [],
   "source": [
    "chain = LLMChain(\n",
    "    llm=groq_model,\n",
    "    prompt=promt_template_name,\n",
    "    verbose=True\n",
    ")"
   ]
  },
  {
   "cell_type": "code",
   "execution_count": 10,
   "metadata": {},
   "outputs": [
    {
     "name": "stderr",
     "output_type": "stream",
     "text": [
      "C:\\Users\\Bichu George\\AppData\\Local\\Temp\\ipykernel_19932\\2972475139.py:1: LangChainDeprecationWarning: The method `Chain.run` was deprecated in langchain 0.1.0 and will be removed in 1.0. Use :meth:`~invoke` instead.\n",
      "  chain.run(\"Indian\")\n"
     ]
    },
    {
     "name": "stdout",
     "output_type": "stream",
     "text": [
      "\n",
      "\n",
      "\u001b[1m> Entering new LLMChain chain...\u001b[0m\n",
      "Prompt after formatting:\n",
      "\u001b[32;1m\u001b[1;3mI want to open a restaurant for Indian food. Suggest a fancy name for this.\u001b[0m\n",
      "\n",
      "\u001b[1m> Finished chain.\u001b[0m\n"
     ]
    },
    {
     "data": {
      "text/plain": [
       "'What a great venture! Here are some fancy name suggestions for your Indian restaurant:\\n\\n1. **Tamarind Temptation**: Tamarind is a common ingredient in Indian cuisine, and \"temptation\" implies a culinary experience that\\'s hard to resist.\\n2. **Maharaja\\'s Kitchen**: \"Maharaja\" means \"great king\" in Hindi, evoking the rich, regal heritage of Indian cuisine. \"Kitchen\" adds a warm, inviting touch.\\n3. **Saffron Silk**: Saffron is a luxurious, aromatic spice commonly used in Indian cooking. \"Silk\" conveys elegance and sophistication.\\n4. **Dhaba Royale**: \"Dhaba\" is a Punjabi term for a rustic, roadside eatery. Adding \"Royale\" gives it a fancy twist, suggesting a refined, upscale experience.\\n5. **Garam Gourmet**: \"Garam\" means \"hot\" or \"spicy\" in Hindi, hinting at the bold flavors of Indian cuisine. \"Gourmet\" emphasizes the high-end quality of your restaurant.\\n6. **Spice Route**: This name references the ancient spice trading routes that connected India to the world. It\\'s exotic, evocative, and intriguing.\\n7. **Rasoi**: \"Rasoi\" is Hindi for \"kitchen,\" but it sounds elegant and sophisticated when used as a standalone name.\\n8. **Mumbai Mansion**: \"Mumbai\" (formerly Bombay) is a city synonymous with Indian cuisine. \"Mansion\" implies a grand, luxurious dining experience.\\n9. **Curry Craft Co.**: \"Curry\" is a staple of Indian cuisine, while \"Craft Co.\" suggests a focus on artisanal, high-quality food.\\n10. **Jali**: \"Jali\" is a Hindi word for a decorative lattice screen, often found in Indian architecture. It\\'s a unique, exotic name that sounds upscale and sophisticated.\\n\\nChoose the one that resonates with your vision and style, and good luck with your restaurant venture!'"
      ]
     },
     "execution_count": 10,
     "metadata": {},
     "output_type": "execute_result"
    }
   ],
   "source": [
    "chain.run(\"Indian\")"
   ]
  },
  {
   "cell_type": "markdown",
   "metadata": {},
   "source": [
    "### Simple Sequential Chain"
   ]
  },
  {
   "cell_type": "markdown",
   "metadata": {},
   "source": [
    "#### You will get the output from the last chain"
   ]
  },
  {
   "cell_type": "code",
   "execution_count": 11,
   "metadata": {},
   "outputs": [],
   "source": [
    "prompt_template_name = PromptTemplate(\n",
    "    input_variables=['cuisine'],\n",
    "    template=\"I want to open a restaurant for {cuisine} food. Suggest a fancy name for this.\"   \n",
    ")\n",
    "\n",
    "name_chain = LLMChain(\n",
    "    llm=groq_model,\n",
    "    prompt=prompt_template_name,\n",
    "    verbose=True\n",
    ")"
   ]
  },
  {
   "cell_type": "code",
   "execution_count": 12,
   "metadata": {},
   "outputs": [],
   "source": [
    "prompt_template_items = PromptTemplate(\n",
    "    input_variables=['restaurant_name'],\n",
    "    template=\"Suggest some menu items for {restaurant_name}\"   \n",
    ")\n",
    "\n",
    "food_chain = LLMChain(\n",
    "    llm=groq_model,\n",
    "    prompt=prompt_template_items,\n",
    "    verbose=True\n",
    ")"
   ]
  },
  {
   "cell_type": "code",
   "execution_count": 14,
   "metadata": {},
   "outputs": [],
   "source": [
    "chain = SimpleSequentialChain(\n",
    "    chains = [food_chain, name_chain],\n",
    "    verbose=True\n",
    ")"
   ]
  },
  {
   "cell_type": "code",
   "execution_count": 15,
   "metadata": {},
   "outputs": [
    {
     "name": "stdout",
     "output_type": "stream",
     "text": [
      "\n",
      "\n",
      "\u001b[1m> Entering new SimpleSequentialChain chain...\u001b[0m\n",
      "\n",
      "\n",
      "\u001b[1m> Entering new LLMChain chain...\u001b[0m\n",
      "Prompt after formatting:\n",
      "\u001b[32;1m\u001b[1;3mSuggest some menu items for Indian\u001b[0m\n",
      "\n",
      "\u001b[1m> Finished chain.\u001b[0m\n",
      "\u001b[36;1m\u001b[1;3mThe diverse and vibrant world of Indian cuisine! Here are some popular menu item suggestions:\n",
      "\n",
      "**Appetizers**\n",
      "\n",
      "1. Samosas (crunchy fried or baked pastries filled with spiced potatoes and peas)\n",
      "2. Papri Chaat (a flavorful street food snack made with yogurt, chickpeas, and crispy fried bread)\n",
      "3. Paneer Tikka (marinated Indian cheese grilled to perfection)\n",
      "4. Vegetable Pakora (assorted vegetables coated in a spiced batter and fried)\n",
      "5. Chaat items like Golgappas, Bhel Puri, and Sev Puri (various savory snacks)\n",
      "\n",
      "**Soups**\n",
      "\n",
      "1. Tomato Soup with a hint of Cumin and Coriander\n",
      "2. Spicy Lentil Soup (Dal Shorba)\n",
      "3. Creamy Vegetable Soup with a touch of Garam Masala\n",
      "\n",
      "**Entrees**\n",
      "\n",
      "**Vegetarian**\n",
      "\n",
      "1. Palak Paneer (creamy spinach curry with Indian cheese)\n",
      "2. Chana Masala (rich and flavorful chickpea curry)\n",
      "3. Saag Aloo (spinach curry with potatoes and garlic)\n",
      "4. Vegetable Korma (mixed vegetables in a mild and creamy sauce)\n",
      "5. Dal Makhani (black lentils and kidney beans in a creamy tomato sauce)\n",
      "\n",
      "**Non-Vegetarian**\n",
      "\n",
      "1. Chicken Tikka Masala (grilled chicken in a rich tomato sauce)\n",
      "2. Butter Chicken (marinated chicken in a creamy tomato sauce)\n",
      "3. Palak Chicken (chicken in a creamy spinach curry)\n",
      "4. Lamb Rogan Josh (tender lamb in a spicy Kashmiri-style curry)\n",
      "5. Fish Tikka Masala (grilled fish in a flavorful tomato sauce)\n",
      "\n",
      "**Biryani and Rice Dishes**\n",
      "\n",
      "1. Chicken Biryani (fragrant basmati rice with marinated chicken)\n",
      "2. Vegetable Biryani (mixed vegetables and basmati rice)\n",
      "3. Saffron Rice with Nuts and Dried Fruits\n",
      "4. Jeera Rice (cumin-flavored rice)\n",
      "\n",
      "**Desserts**\n",
      "\n",
      "1. Gulab Jamun (deep-fried dumplings soaked in rose syrup)\n",
      "2. Kulfi (Indian-style ice cream in flavors like cardamom, saffron, and mango)\n",
      "3. Jalebi (crunchy, sweet fried batter dessert)\n",
      "4. Ras Malai (creamy paneer dessert in a sweet, cardamom-flavored syrup)\n",
      "5. Barfi (dense, sweet confectionery made with nuts and dried fruits)\n",
      "\n",
      "**Beverages**\n",
      "\n",
      "1. Chai (spiced tea with milk and sugar)\n",
      "2. Lassi (yogurt-based drink, sweet or salty)\n",
      "3. Jal Jeera (spicy, cumin-flavored drink)\n",
      "4. Nimbu Pani (fresh lime juice with cumin and black salt)\n",
      "5. Masala Soda (spiced soda water with a twist of lemon)\n",
      "\n",
      "These are just a few examples of the diverse and rich culinary heritage of India. You can customize your menu to cater to different regions, flavors, and dietary preferences.\u001b[0m\n",
      "\n",
      "\n",
      "\u001b[1m> Entering new LLMChain chain...\u001b[0m\n",
      "Prompt after formatting:\n",
      "\u001b[32;1m\u001b[1;3mI want to open a restaurant for The diverse and vibrant world of Indian cuisine! Here are some popular menu item suggestions:\n",
      "\n",
      "**Appetizers**\n",
      "\n",
      "1. Samosas (crunchy fried or baked pastries filled with spiced potatoes and peas)\n",
      "2. Papri Chaat (a flavorful street food snack made with yogurt, chickpeas, and crispy fried bread)\n",
      "3. Paneer Tikka (marinated Indian cheese grilled to perfection)\n",
      "4. Vegetable Pakora (assorted vegetables coated in a spiced batter and fried)\n",
      "5. Chaat items like Golgappas, Bhel Puri, and Sev Puri (various savory snacks)\n",
      "\n",
      "**Soups**\n",
      "\n",
      "1. Tomato Soup with a hint of Cumin and Coriander\n",
      "2. Spicy Lentil Soup (Dal Shorba)\n",
      "3. Creamy Vegetable Soup with a touch of Garam Masala\n",
      "\n",
      "**Entrees**\n",
      "\n",
      "**Vegetarian**\n",
      "\n",
      "1. Palak Paneer (creamy spinach curry with Indian cheese)\n",
      "2. Chana Masala (rich and flavorful chickpea curry)\n",
      "3. Saag Aloo (spinach curry with potatoes and garlic)\n",
      "4. Vegetable Korma (mixed vegetables in a mild and creamy sauce)\n",
      "5. Dal Makhani (black lentils and kidney beans in a creamy tomato sauce)\n",
      "\n",
      "**Non-Vegetarian**\n",
      "\n",
      "1. Chicken Tikka Masala (grilled chicken in a rich tomato sauce)\n",
      "2. Butter Chicken (marinated chicken in a creamy tomato sauce)\n",
      "3. Palak Chicken (chicken in a creamy spinach curry)\n",
      "4. Lamb Rogan Josh (tender lamb in a spicy Kashmiri-style curry)\n",
      "5. Fish Tikka Masala (grilled fish in a flavorful tomato sauce)\n",
      "\n",
      "**Biryani and Rice Dishes**\n",
      "\n",
      "1. Chicken Biryani (fragrant basmati rice with marinated chicken)\n",
      "2. Vegetable Biryani (mixed vegetables and basmati rice)\n",
      "3. Saffron Rice with Nuts and Dried Fruits\n",
      "4. Jeera Rice (cumin-flavored rice)\n",
      "\n",
      "**Desserts**\n",
      "\n",
      "1. Gulab Jamun (deep-fried dumplings soaked in rose syrup)\n",
      "2. Kulfi (Indian-style ice cream in flavors like cardamom, saffron, and mango)\n",
      "3. Jalebi (crunchy, sweet fried batter dessert)\n",
      "4. Ras Malai (creamy paneer dessert in a sweet, cardamom-flavored syrup)\n",
      "5. Barfi (dense, sweet confectionery made with nuts and dried fruits)\n",
      "\n",
      "**Beverages**\n",
      "\n",
      "1. Chai (spiced tea with milk and sugar)\n",
      "2. Lassi (yogurt-based drink, sweet or salty)\n",
      "3. Jal Jeera (spicy, cumin-flavored drink)\n",
      "4. Nimbu Pani (fresh lime juice with cumin and black salt)\n",
      "5. Masala Soda (spiced soda water with a twist of lemon)\n",
      "\n",
      "These are just a few examples of the diverse and rich culinary heritage of India. You can customize your menu to cater to different regions, flavors, and dietary preferences. food. Suggest a fancy name for this.\u001b[0m\n",
      "\n",
      "\u001b[1m> Finished chain.\u001b[0m\n",
      "\u001b[33;1m\u001b[1;3mWhat a delightful menu! Here are some fancy name suggestions for your Indian cuisine restaurant:\n",
      "\n",
      "1. **Taste of Taj**: A nod to the iconic Taj Mahal, evoking the rich cultural heritage of India.\n",
      "2. **Spice Route**: A name that conjures up the ancient trade routes that brought exotic spices to India, promising a flavorful journey.\n",
      "3. **Dhaba Royale**: \"Dhaba\" means a rustic, traditional Indian eatery, while \"Royale\" adds a touch of luxury, suggesting a regal dining experience.\n",
      "4. **Garam Gourmet**: \"Garam\" means \"hot\" or \"warm\" in Hindi, conveying the warmth and spices of Indian cuisine, while \"Gourmet\" emphasizes the upscale nature of your restaurant.\n",
      "5. **Maharaja's Kitchen**: This name transports diners to the opulent courts of India's royal past, promising a majestic culinary experience.\n",
      "6. **Bombay Bazaar**: \"Bombay\" (now Mumbai) is India's culinary hub, and \"Bazaar\" evokes the vibrant, bustling atmosphere of an Indian market, suggesting a diverse and exciting dining experience.\n",
      "7. **Tandoor Temple**: \"Tandoor\" is a traditional Indian clay oven, while \"Temple\" implies a sacred space for foodies, promising an authentic and reverent culinary experience.\n",
      "8. **Saffron Palace**: Saffron is a prized spice in Indian cuisine, and \"Palace\" conveys luxury and grandeur, suggesting a majestic dining experience.\n",
      "9. **Curry Cove**: \"Curry\" is a staple of Indian cuisine, while \"Cove\" implies a cozy, intimate setting, promising a warm and inviting dining experience.\n",
      "10. **Dilli Darbar**: \"Dilli\" means \"Delhi,\" India's capital city, while \"Darbar\" means \"royal court,\" suggesting a regal and authentic dining experience.\n",
      "\n",
      "Choose the one that resonates with your vision and brand identity, and get ready to transport your customers to the vibrant world of Indian cuisine!\u001b[0m\n",
      "\n",
      "\u001b[1m> Finished chain.\u001b[0m\n"
     ]
    },
    {
     "data": {
      "text/plain": [
       "'What a delightful menu! Here are some fancy name suggestions for your Indian cuisine restaurant:\\n\\n1. **Taste of Taj**: A nod to the iconic Taj Mahal, evoking the rich cultural heritage of India.\\n2. **Spice Route**: A name that conjures up the ancient trade routes that brought exotic spices to India, promising a flavorful journey.\\n3. **Dhaba Royale**: \"Dhaba\" means a rustic, traditional Indian eatery, while \"Royale\" adds a touch of luxury, suggesting a regal dining experience.\\n4. **Garam Gourmet**: \"Garam\" means \"hot\" or \"warm\" in Hindi, conveying the warmth and spices of Indian cuisine, while \"Gourmet\" emphasizes the upscale nature of your restaurant.\\n5. **Maharaja\\'s Kitchen**: This name transports diners to the opulent courts of India\\'s royal past, promising a majestic culinary experience.\\n6. **Bombay Bazaar**: \"Bombay\" (now Mumbai) is India\\'s culinary hub, and \"Bazaar\" evokes the vibrant, bustling atmosphere of an Indian market, suggesting a diverse and exciting dining experience.\\n7. **Tandoor Temple**: \"Tandoor\" is a traditional Indian clay oven, while \"Temple\" implies a sacred space for foodies, promising an authentic and reverent culinary experience.\\n8. **Saffron Palace**: Saffron is a prized spice in Indian cuisine, and \"Palace\" conveys luxury and grandeur, suggesting a majestic dining experience.\\n9. **Curry Cove**: \"Curry\" is a staple of Indian cuisine, while \"Cove\" implies a cozy, intimate setting, promising a warm and inviting dining experience.\\n10. **Dilli Darbar**: \"Dilli\" means \"Delhi,\" India\\'s capital city, while \"Darbar\" means \"royal court,\" suggesting a regal and authentic dining experience.\\n\\nChoose the one that resonates with your vision and brand identity, and get ready to transport your customers to the vibrant world of Indian cuisine!'"
      ]
     },
     "execution_count": 15,
     "metadata": {},
     "output_type": "execute_result"
    }
   ],
   "source": [
    "chain.run(\"Indian\")"
   ]
  },
  {
   "cell_type": "markdown",
   "metadata": {},
   "source": [
    "## Sequential Chain"
   ]
  },
  {
   "cell_type": "markdown",
   "metadata": {},
   "source": [
    "#### Will get output from each chains"
   ]
  },
  {
   "cell_type": "code",
   "execution_count": 5,
   "metadata": {},
   "outputs": [],
   "source": [
    "# Define the prompt templates\n",
    "prompt_template_name = PromptTemplate(\n",
    "    input_variables=['cuisine'],\n",
    "    template=\"I want to open a restaurant for {cuisine} food. Suggest a fancy name for this.\"\n",
    ")\n",
    "prompt_template_items = PromptTemplate(\n",
    "    input_variables=['restaurant_name'],\n",
    "    template=\"Suggest some menu items for {restaurant_name}\"\n",
    ")\n",
    "\n",
    "# Define the LLM chains\n",
    "name_chain = LLMChain(\n",
    "    llm=groq_model,\n",
    "    prompt=prompt_template_name,\n",
    "    output_key='restaurant_name',  # Specify the output key\n",
    "    verbose=True\n",
    ")\n",
    "food_chain = LLMChain(\n",
    "    llm=groq_model,\n",
    "    prompt=prompt_template_items,\n",
    "    output_key='menu_items',  # Specify the output key\n",
    "    verbose=True\n",
    ")"
   ]
  },
  {
   "cell_type": "code",
   "execution_count": 6,
   "metadata": {},
   "outputs": [],
   "source": [
    "chain = SequentialChain(\n",
    "    chains = [name_chain, food_chain],\n",
    "    input_variables=['cuisine'],\n",
    "    output_variables=['restaurant_name', 'menu_items'],\n",
    "    verbose=True\n",
    ")"
   ]
  },
  {
   "cell_type": "code",
   "execution_count": 8,
   "metadata": {},
   "outputs": [
    {
     "name": "stderr",
     "output_type": "stream",
     "text": [
      "C:\\Users\\Bichu George\\AppData\\Local\\Temp\\ipykernel_5936\\1291024580.py:1: LangChainDeprecationWarning: The method `Chain.__call__` was deprecated in langchain 0.1.0 and will be removed in 1.0. Use :meth:`~invoke` instead.\n",
      "  chain({'cuisine': \"Indian\"})\n"
     ]
    },
    {
     "name": "stdout",
     "output_type": "stream",
     "text": [
      "\n",
      "\n",
      "\u001b[1m> Entering new SequentialChain chain...\u001b[0m\n",
      "\n",
      "\n",
      "\u001b[1m> Entering new LLMChain chain...\u001b[0m\n",
      "Prompt after formatting:\n",
      "\u001b[32;1m\u001b[1;3mI want to open a restaurant for Indian food. Suggest a fancy name for this.\u001b[0m\n",
      "\n",
      "\u001b[1m> Finished chain.\u001b[0m\n",
      "\n",
      "\n",
      "\u001b[1m> Entering new LLMChain chain...\u001b[0m\n",
      "Prompt after formatting:\n",
      "\u001b[32;1m\u001b[1;3mSuggest some menu items for What a great venture! Here are some fancy name suggestions for your Indian restaurant:\n",
      "\n",
      "1. **Tandoor Mahal**: \"Tandoor\" is a traditional Indian clay oven, and \"Mahal\" means palace, evoking a sense of luxury and grandeur.\n",
      "2. **Dhaba Royale**: \"Dhaba\" is a casual, rustic eatery in India, but adding \"Royale\" gives it a regal twist, implying a sophisticated dining experience.\n",
      "3. **Saffron Bazaar**: Saffron is a prized spice in Indian cuisine, and \"Bazaar\" conveys a vibrant, bustling atmosphere, perfect for a restaurant.\n",
      "4. **Garam Gourmet**: \"Garam\" means hot or warm in Hindi, and \"Gourmet\" emphasizes the high-end quality of your dishes.\n",
      "5. **Rasoi**: \"Rasoi\" is the Hindi word for kitchen, but it sounds elegant and sophisticated, suggesting a refined dining experience.\n",
      "6. **Maharaja's Table**: This name conjures up images of royal feasts and luxurious dining, perfect for a fancy Indian restaurant.\n",
      "7. **Spice Route**: This name references the ancient spice trade routes that connected India to the world, implying a rich cultural heritage and exotic flavors.\n",
      "8. **Dilli Darbar**: \"Dilli\" is the Hindi name for Delhi, and \"Darbar\" means royal court, suggesting a regal, sophisticated dining experience.\n",
      "9. **Tamarind Tree**: Tamarind is a popular Indian ingredient, and \"Tree\" implies a natural, earthy atmosphere, perfect for a restaurant serving traditional Indian cuisine.\n",
      "10. **Jewel of India**: This name references the rich cultural heritage and vibrant flavors of India, implying a luxurious and authentic dining experience.\n",
      "\n",
      "Choose the one that resonates with your vision and target audience!\u001b[0m\n",
      "\n",
      "\u001b[1m> Finished chain.\u001b[0m\n",
      "\n",
      "\u001b[1m> Finished chain.\u001b[0m\n"
     ]
    },
    {
     "data": {
      "text/plain": [
       "{'cuisine': 'Indian',\n",
       " 'restaurant_name': 'What a great venture! Here are some fancy name suggestions for your Indian restaurant:\\n\\n1. **Tandoor Mahal**: \"Tandoor\" is a traditional Indian clay oven, and \"Mahal\" means palace, evoking a sense of luxury and grandeur.\\n2. **Dhaba Royale**: \"Dhaba\" is a casual, rustic eatery in India, but adding \"Royale\" gives it a regal twist, implying a sophisticated dining experience.\\n3. **Saffron Bazaar**: Saffron is a prized spice in Indian cuisine, and \"Bazaar\" conveys a vibrant, bustling atmosphere, perfect for a restaurant.\\n4. **Garam Gourmet**: \"Garam\" means hot or warm in Hindi, and \"Gourmet\" emphasizes the high-end quality of your dishes.\\n5. **Rasoi**: \"Rasoi\" is the Hindi word for kitchen, but it sounds elegant and sophisticated, suggesting a refined dining experience.\\n6. **Maharaja\\'s Table**: This name conjures up images of royal feasts and luxurious dining, perfect for a fancy Indian restaurant.\\n7. **Spice Route**: This name references the ancient spice trade routes that connected India to the world, implying a rich cultural heritage and exotic flavors.\\n8. **Dilli Darbar**: \"Dilli\" is the Hindi name for Delhi, and \"Darbar\" means royal court, suggesting a regal, sophisticated dining experience.\\n9. **Tamarind Tree**: Tamarind is a popular Indian ingredient, and \"Tree\" implies a natural, earthy atmosphere, perfect for a restaurant serving traditional Indian cuisine.\\n10. **Jewel of India**: This name references the rich cultural heritage and vibrant flavors of India, implying a luxurious and authentic dining experience.\\n\\nChoose the one that resonates with your vision and target audience!',\n",
       " 'menu_items': \"What a great venture indeed! I'm excited to help you with some menu item suggestions that would complement your chosen restaurant name. Let's assume you've chosen **Tandoor Mahal** as your restaurant name, evoking a sense of luxury and grandeur. Here are some menu item suggestions to match:\\n\\n**Appetizers**\\n\\n1. **Mahal Morsels**: Crispy fried cauliflower florets tossed in a zesty tamarind chutney, served with a side of creamy cilantro sauce.\\n2. **Tandoor Tikka Trio**: A selection of marinated chicken, lamb, and paneer (Indian cheese) skewers, grilled to perfection in our traditional tandoor oven.\\n3. **Garam Gobi**: Pan-seared cauliflower florets in a spicy tomato-based sauce, served with a dollop of raita (yogurt and cucumber sauce).\\n\\n**Entrees**\\n\\n1. **Maharaja's Mixed Grill**: A regal combination of marinated chicken, lamb, shrimp, and paneer, grilled to perfection and served with a side of saffron-infused basmati rice and garlic naan.\\n2. **Tandoor Chicken Tikka Masala**: Tender chicken marinated in a blend of spices and yogurt, grilled in our tandoor oven and served in a rich, creamy tomato sauce.\\n3. **Palace Paneer**: Pan-seared paneer in a creamy spinach sauce, served with a side of garlic naan and saffron-infused basmati rice.\\n\\n**Sides**\\n\\n1. **Saffron Basmati Rice**: Fragrant basmati rice infused with saffron and a hint of cardamom.\\n2. **Garlic Naan**: Soft, buttery naan bread flavored with garlic and herbs.\\n3. **Raita**: A cool and creamy yogurt sauce with cucumber, cumin, and coriander.\\n\\n**Desserts**\\n\\n1. **Mahal Mithai**: A selection of traditional Indian sweets, including gulab jamun, jalebi, and kulfi.\\n2. **Cardamom Crème Brûlée**: A rich, creamy custard base infused with cardamom, topped with a caramelized sugar crust.\\n3. **Gajar Ka Halwa**: A traditional Indian carrot pudding, flavored with cardamom, saffron, and nuts.\\n\\n**Beverages**\\n\\n1. **Mahal Mojito**: A refreshing blend of mint, lime, and ginger beer, served with a splash of sparkling water.\\n2. **Chai Royale**: A rich, spiced black tea blend, served with a touch of honey and cream.\\n3. **Lassi**: A creamy, yogurt-based drink flavored with cardamom, cumin, and coriander.\\n\\nThese menu items are designed to evoke the luxury and grandeur of **Tandoor Mahal**, with a focus on traditional Indian flavors and ingredients. You can adjust the menu to suit your target audience and preferences. Good luck with your venture!\"}"
      ]
     },
     "execution_count": 8,
     "metadata": {},
     "output_type": "execute_result"
    }
   ],
   "source": [
    "chain({'cuisine': \"Indian\"})"
   ]
  },
  {
   "cell_type": "code",
   "execution_count": null,
   "metadata": {},
   "outputs": [],
   "source": []
  },
  {
   "cell_type": "code",
   "execution_count": null,
   "metadata": {},
   "outputs": [],
   "source": []
  },
  {
   "cell_type": "code",
   "execution_count": null,
   "metadata": {},
   "outputs": [],
   "source": []
  }
 ],
 "metadata": {
  "kernelspec": {
   "display_name": "langchaingroq",
   "language": "python",
   "name": "python3"
  },
  "language_info": {
   "codemirror_mode": {
    "name": "ipython",
    "version": 3
   },
   "file_extension": ".py",
   "mimetype": "text/x-python",
   "name": "python",
   "nbconvert_exporter": "python",
   "pygments_lexer": "ipython3",
   "version": "3.10.0"
  }
 },
 "nbformat": 4,
 "nbformat_minor": 2
}
