{
 "cells": [
  {
   "cell_type": "markdown",
   "metadata": {},
   "source": [
    "## Basic Langchain with Open Sorce Models"
   ]
  },
  {
   "cell_type": "code",
   "execution_count": 1,
   "metadata": {},
   "outputs": [],
   "source": [
    "import os\n",
    "from dotenv import load_dotenv, find_dotenv\n"
   ]
  },
  {
   "cell_type": "code",
   "execution_count": 6,
   "metadata": {},
   "outputs": [
    {
     "data": {
      "text/plain": [
       "'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'"
      ]
     },
     "execution_count": 6,
     "metadata": {},
     "output_type": "execute_result"
    }
   ],
   "source": [
    "from langchain.chat_models import ChatOpenAI\n",
    "from langchain_groq import ChatGroq\n",
    "load_dotenv()\n",
    "groq_key = os.getenv(\"GROQ\")\n",
    "groq_key"
   ]
  },
  {
   "cell_type": "code",
   "execution_count": 7,
   "metadata": {},
   "outputs": [],
   "source": [
    "groq_model = ChatGroq(\n",
    "    model=\"llama3-70b-8192\",\n",
    "    groq_api_key=groq_key)"
   ]
  },
  {
   "cell_type": "code",
   "execution_count": 8,
   "metadata": {},
   "outputs": [],
   "source": [
    "messages = [\n",
    "    (\"system\", \"You are a historian expert in Abdul Kalam Family.\"),\n",
    "    (\"human\", \"How many members of the family dies tragically?\")\n",
    "]"
   ]
  },
  {
   "cell_type": "code",
   "execution_count": 9,
   "metadata": {},
   "outputs": [],
   "source": [
    "response_llama = groq_model.invoke(messages)"
   ]
  },
  {
   "cell_type": "code",
   "execution_count": 10,
   "metadata": {},
   "outputs": [
    {
     "data": {
      "text/plain": [
       "AIMessage(content=\"A very poignant question. The family of Dr. APJ Abdul Kalam, the 11th President of India, has indeed experienced its share of tragedies. Unfortunately, several members of his family passed away at a relatively young age or under unfortunate circumstances.\\n\\nDr. Kalam was the youngest of five brothers and one sister. His family members who died tragically include:\\n\\n1. His brother, Jainulabdeen (died in 1950 at the age of 25): Jainulabdeen, who was just a few years older than Dr. Kalam, died of tuberculosis.\\n2. His brother, Kasim Mohammed (died in 1949 at the age of 22): Kasim Mohammed, another older brother of Dr. Kalam, died in a road accident.\\n3. His sister, Zohra (died in 1954 at the age of 20): Zohra, Dr. Kalam's only sister, died of typhoid fever.\\n4. His brother, Mustafa Kalam (died in 1956 at the age of 26): Mustafa Kalam, another brother of Dr. Kalam, died of a heart attack at a young age.\\n\\nThese losses had a profound impact on Dr. Kalam's life and shaped his perspective on life and death. Despite these tragedies, Dr. Kalam went on to achieve great heights and inspire millions of people around the world.\", additional_kwargs={}, response_metadata={'token_usage': {'completion_tokens': 291, 'prompt_tokens': 36, 'total_tokens': 327, 'completion_time': 1.051881921, 'prompt_time': 0.000837225, 'queue_time': 0.055468104000000004, 'total_time': 1.052719146}, 'model_name': 'llama3-70b-8192', 'system_fingerprint': 'fp_2e0feca3c9', 'finish_reason': 'stop', 'logprobs': None}, id='run-873047ea-d57b-42fc-acfd-b94be0d50383-0', usage_metadata={'input_tokens': 36, 'output_tokens': 291, 'total_tokens': 327})"
      ]
     },
     "execution_count": 10,
     "metadata": {},
     "output_type": "execute_result"
    }
   ],
   "source": [
    "response_llama"
   ]
  },
  {
   "cell_type": "code",
   "execution_count": 11,
   "metadata": {},
   "outputs": [],
   "source": [
    "mistral_model = ChatGroq(\n",
    "    model=\"mixtral-8x7b-32768\",\n",
    "    groq_api_key=groq_key)"
   ]
  },
  {
   "cell_type": "code",
   "execution_count": 12,
   "metadata": {},
   "outputs": [
    {
     "data": {
      "text/plain": [
       "AIMessage(content=\"I am a large language model trained by Mistral AI and I can provide information on a wide range of topics, but I don't have personal expertise or access to personal data about individuals unless it has been shared previously in the public domain.\\n\\nAs for your question, I can tell you that Abdul Kalam, the former President of India, had a relatively small and close-knit family. He had two younger brothers and a sister. To the best of my knowledge, there is no information suggesting that any member of Abdul Kalam's immediate family died tragically. However, I should note that my knowledge is based on publicly available information, and I do not have access to personal or confidential data.\", additional_kwargs={}, response_metadata={'token_usage': {'completion_tokens': 148, 'prompt_tokens': 29, 'total_tokens': 177, 'completion_time': 0.22854772, 'prompt_time': 0.002854623, 'queue_time': 0.235591832, 'total_time': 0.231402343}, 'model_name': 'mixtral-8x7b-32768', 'system_fingerprint': 'fp_c5f20b5bb1', 'finish_reason': 'stop', 'logprobs': None}, id='run-6929635e-70dc-4803-beaa-b6486a2c1cac-0', usage_metadata={'input_tokens': 29, 'output_tokens': 148, 'total_tokens': 177})"
      ]
     },
     "execution_count": 12,
     "metadata": {},
     "output_type": "execute_result"
    }
   ],
   "source": [
    "response_mixtral = mistral_model.invoke(messages)\n",
    "response_mixtral"
   ]
  },
  {
   "cell_type": "code",
   "execution_count": null,
   "metadata": {},
   "outputs": [],
   "source": []
  },
  {
   "cell_type": "code",
   "execution_count": null,
   "metadata": {},
   "outputs": [],
   "source": []
  },
  {
   "cell_type": "code",
   "execution_count": null,
   "metadata": {},
   "outputs": [],
   "source": []
  },
  {
   "cell_type": "code",
   "execution_count": null,
   "metadata": {},
   "outputs": [],
   "source": []
  },
  {
   "cell_type": "code",
   "execution_count": null,
   "metadata": {},
   "outputs": [],
   "source": []
  },
  {
   "cell_type": "code",
   "execution_count": null,
   "metadata": {},
   "outputs": [],
   "source": []
  },
  {
   "cell_type": "code",
   "execution_count": null,
   "metadata": {},
   "outputs": [],
   "source": []
  },
  {
   "cell_type": "code",
   "execution_count": null,
   "metadata": {},
   "outputs": [],
   "source": []
  },
  {
   "cell_type": "code",
   "execution_count": null,
   "metadata": {},
   "outputs": [],
   "source": []
  }
 ],
 "metadata": {
  "kernelspec": {
   "display_name": "langchaingroq",
   "language": "python",
   "name": "python3"
  },
  "language_info": {
   "codemirror_mode": {
    "name": "ipython",
    "version": 3
   },
   "file_extension": ".py",
   "mimetype": "text/x-python",
   "name": "python",
   "nbconvert_exporter": "python",
   "pygments_lexer": "ipython3",
   "version": "3.10.0"
  }
 },
 "nbformat": 4,
 "nbformat_minor": 2
}
