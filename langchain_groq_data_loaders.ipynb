{
 "cells": [
  {
   "cell_type": "code",
   "execution_count": 44,
   "metadata": {},
   "outputs": [
    {
     "data": {
      "text/plain": [
       "'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'"
      ]
     },
     "execution_count": 44,
     "metadata": {},
     "output_type": "execute_result"
    }
   ],
   "source": [
    "from langchain_groq import ChatGroq\n",
    "from sentence_transformers import SentenceTransformer\n",
    "from langchain.vectorstores import Chroma, FAISS\n",
    "from langchain.embeddings import HuggingFaceEmbeddings\n",
    "from langchain.prompts import PromptTemplate\n",
    "from dotenv import load_dotenv\n",
    "import os\n",
    "load_dotenv()\n",
    "groq_key = os.getenv(\"GROQ\")\n",
    "groq_key"
   ]
  },
  {
   "cell_type": "code",
   "execution_count": 2,
   "metadata": {},
   "outputs": [],
   "source": [
    "groq_model = ChatGroq(\n",
    "    model=\"llama3-70b-8192\",\n",
    "    groq_api_key=groq_key)"
   ]
  },
  {
   "cell_type": "code",
   "execution_count": 3,
   "metadata": {},
   "outputs": [],
   "source": [
    "messages = [\n",
    "    (\"system\", \"You are a helpful assistant.\"),\n",
    "    (\"human\", \"Tell me about my pet dog\")\n",
    "]"
   ]
  },
  {
   "cell_type": "code",
   "execution_count": 4,
   "metadata": {},
   "outputs": [
    {
     "data": {
      "text/plain": [
       "\"I'm happy to help! However, I have to admit that I don't have any information about your pet dog. You see, I'm a large language model, I don't have the ability to know about your personal life or your pets unless you tell me about them.\\n\\nBut I'd love to learn more about your furry friend! Can you tell me a bit about your dog? What's their name, breed, age, and personality like? Do they have any fun quirks or habits?\""
      ]
     },
     "execution_count": 4,
     "metadata": {},
     "output_type": "execute_result"
    }
   ],
   "source": [
    "groq_model.invoke(messages).content"
   ]
  },
  {
   "cell_type": "markdown",
   "metadata": {},
   "source": [
    "### Addind context from a txt file"
   ]
  },
  {
   "cell_type": "code",
   "execution_count": 15,
   "metadata": {},
   "outputs": [],
   "source": [
    "from langchain_community.document_loaders import TextLoader\n",
    "from langchain_text_splitters import CharacterTextSplitter, RecursiveCharacterTextSplitter"
   ]
  },
  {
   "cell_type": "code",
   "execution_count": 6,
   "metadata": {},
   "outputs": [
    {
     "data": {
      "text/plain": [
       "[Document(metadata={'source': 'D:/training/ml_algorithms/my_pet.txt'}, page_content=\"Micky, my German Shepherd, is the perfect mix of calm and playful energy. He has \\na friendly nature that makes him a joy to be around, always greeting everyone \\nwith a wagging tail. Despite his large and strong build, he is incredibly gentle \\nand loves to spend time playing, whether it's chasing a ball or running around \\nthe yard. His intelligence and loyalty make him not just a pet but a true \\ncompanion. Whether he's lounging by my side or eagerly waiting for our next \\ngame, Micky brings happiness and warmth to every moment.\\n\\nMicky also has a curious and playful side that makes every day exciting. He loves exploring new places, sniffing around for hidden treasures, and learning new tricks. His boundless energy comes alive during playtime, especially when he’s chasing after his favorite toy or running in the park. But after all the fun, he enjoys curling up beside me, showing his affectionate and loyal nature. His expressive eyes and wagging tail always brighten my day, making him not just a pet but a beloved member of the family.\")]"
      ]
     },
     "execution_count": 6,
     "metadata": {},
     "output_type": "execute_result"
    }
   ],
   "source": [
    "loader = TextLoader(\n",
    "    \"D:/training/ml_algorithms/my_pet.txt\"\n",
    ")\n",
    "text_file = loader.load()\n",
    "text_file"
   ]
  },
  {
   "cell_type": "code",
   "execution_count": 16,
   "metadata": {},
   "outputs": [
    {
     "name": "stderr",
     "output_type": "stream",
     "text": [
      "Created a chunk of size 81, which is longer than the specified 25\n",
      "Created a chunk of size 78, which is longer than the specified 25\n",
      "Created a chunk of size 81, which is longer than the specified 25\n",
      "Created a chunk of size 79, which is longer than the specified 25\n",
      "Created a chunk of size 74, which is longer than the specified 25\n",
      "Created a chunk of size 76, which is longer than the specified 25\n",
      "Created a chunk of size 56, which is longer than the specified 25\n"
     ]
    },
    {
     "data": {
      "text/plain": [
       "['Micky, my German Shepherd, is the perfect mix of calm and playful energy. He has',\n",
       " 'a friendly nature that makes him a joy to be around, always greeting everyone',\n",
       " 'with a wagging tail. Despite his large and strong build, he is incredibly gentle',\n",
       " \"and loves to spend time playing, whether it's chasing a ball or running around\",\n",
       " 'the yard. His intelligence and loyalty make him not just a pet but a true',\n",
       " \"companion. Whether he's lounging by my side or eagerly waiting for our next\",\n",
       " 'game, Micky brings happiness and warmth to every moment.',\n",
       " 'Micky also has a curious and playful side that makes every day exciting. He loves exploring new places, sniffing around for hidden treasures, and learning new tricks. His boundless energy comes alive during playtime, especially when he’s chasing after his favorite toy or running in the park. But after all the fun, he enjoys curling up beside me, showing his affectionate and loyal nature. His expressive eyes and wagging tail always brighten my day, making him not just a pet but a beloved member of the family.']"
      ]
     },
     "execution_count": 16,
     "metadata": {},
     "output_type": "execute_result"
    }
   ],
   "source": [
    "text_splitter_txt = CharacterTextSplitter(\n",
    "    separator=\"\\n\",\n",
    "    chunk_size=25,\n",
    "    chunk_overlap=2,\n",
    "    length_function=len,\n",
    "    is_separator_regex=False\n",
    ")\n",
    "texts_txt = text_splitter_txt.split_text(text_file[0].page_content)\n",
    "texts_txt"
   ]
  },
  {
   "cell_type": "code",
   "execution_count": 27,
   "metadata": {},
   "outputs": [],
   "source": [
    "reccursive_text_splitter_txt = RecursiveCharacterTextSplitter(\n",
    "    chunk_size=25,\n",
    "    chunk_overlap=2\n",
    ")\n",
    "texts_txt_reccursive = reccursive_text_splitter_txt.split_text(text_file[0].page_content)\n",
    "texts_txt_reccursive\n",
    "texts_txt_reccursive_chunks = reccursive_text_splitter_txt.split_documents(text_file)\n"
   ]
  },
  {
   "cell_type": "code",
   "execution_count": 33,
   "metadata": {},
   "outputs": [
    {
     "name": "stderr",
     "output_type": "stream",
     "text": [
      "C:\\Users\\Bichu George\\AppData\\Local\\Temp\\ipykernel_3980\\1535254013.py:2: LangChainDeprecationWarning: The class `HuggingFaceEmbeddings` was deprecated in LangChain 0.2.2 and will be removed in 1.0. An updated version of the class exists in the :class:`~langchain-huggingface package and should be used instead. To use it run `pip install -U :class:`~langchain-huggingface` and import as `from :class:`~langchain_huggingface import HuggingFaceEmbeddings``.\n",
      "  embedding_model = HuggingFaceEmbeddings(model_name=\"BAAI/bge-small-en\")\n"
     ]
    }
   ],
   "source": [
    "# Load embedding model\n",
    "embedding_model = HuggingFaceEmbeddings(model_name=\"BAAI/bge-small-en\")"
   ]
  },
  {
   "cell_type": "code",
   "execution_count": 35,
   "metadata": {},
   "outputs": [],
   "source": [
    "# Create ChromaDB vector store\n",
    "vector_db_reccursive = Chroma.from_documents(\n",
    "    documents=texts_txt_reccursive_chunks,\n",
    "    embedding=embedding_model  # This now uses the correct embedding class\n",
    ")"
   ]
  },
  {
   "cell_type": "code",
   "execution_count": 47,
   "metadata": {},
   "outputs": [
    {
     "name": "stdout",
     "output_type": "stream",
     "text": [
      "[Document(id='46436470-3ba1-49bb-a591-6ac62f924761', metadata={'source': 'D:/training/ml_algorithms/my_pet.txt'}, page_content='a friendly nature that'), Document(id='7c35ce78-5ab9-417b-ae26-6e90f5b9fbce', metadata={'source': 'D:/training/ml_algorithms/my_pet.txt'}, page_content='him not just a pet but a')]\n"
     ]
    }
   ],
   "source": [
    "question_txt = \"What is the nature of my pet dog?\"\n",
    "response_txt_similarity_search = vector_db_reccursive.similarity_search(\n",
    "    question_txt,\n",
    "    k=2\n",
    ")\n",
    "\n",
    "response_txt_ = vector_db_reccursive.similarity_search(\n",
    "    question_txt,\n",
    "    k=2\n",
    ")\n",
    "print(response_txt_similarity_search)"
   ]
  },
  {
   "cell_type": "code",
   "execution_count": 49,
   "metadata": {},
   "outputs": [
    {
     "name": "stdout",
     "output_type": "stream",
     "text": [
      "[Document(id='f18de685-fae9-495c-a5c5-8d8af4f2896a', metadata={'source': 'D:/training/ml_algorithms/my_pet.txt'}, page_content='a friendly nature that'), Document(id='823807d0-0fa3-4a5f-a91c-4b16ee7ee7f5', metadata={'source': 'D:/training/ml_algorithms/my_pet.txt'}, page_content='him not just a pet but a')]\n"
     ]
    }
   ],
   "source": [
    "\n",
    "# Create ChromaDB vector store using FAISS\n",
    "vector_db_reccursive = FAISS.from_documents(\n",
    "    documents=texts_txt_reccursive_chunks,\n",
    "    embedding=embedding_model  # This now uses the correct embedding class\n",
    ")\n",
    "retriver = vector_db_reccursive.as_retriever(search_kwargs={\"k\": 2})\n",
    "print(retriver.invoke(question_txt))"
   ]
  },
  {
   "cell_type": "markdown",
   "metadata": {},
   "source": [
    "## Adding context from a csv file"
   ]
  },
  {
   "cell_type": "code",
   "execution_count": 11,
   "metadata": {},
   "outputs": [],
   "source": [
    "from langchain_community.document_loaders import CSVLoader"
   ]
  },
  {
   "cell_type": "code",
   "execution_count": 13,
   "metadata": {},
   "outputs": [
    {
     "data": {
      "text/plain": [
       "[Document(metadata={'source': 'D:/training/ml_algorithms/people.csv', 'row': 0}, page_content='Index: 1\\nUser Id: 88F7B33d2bcf9f5\\nFirst Name: Shelby\\nLast Name: Terrell\\nSex: Male\\nEmail: elijah57@example.net\\nPhone: 001-084-906-7849x73518\\nDate of birth: 1945-10-26\\nJob Title: Games developer'),\n",
       " Document(metadata={'source': 'D:/training/ml_algorithms/people.csv', 'row': 1}, page_content='Index: 2\\nUser Id: f90cD3E76f1A9b9\\nFirst Name: Phillip\\nLast Name: Summers\\nSex: Female\\nEmail: bethany14@example.com\\nPhone: 214.112.6044x4913\\nDate of birth: 1910-03-24\\nJob Title: Phytotherapist'),\n",
       " Document(metadata={'source': 'D:/training/ml_algorithms/people.csv', 'row': 2}, page_content='Index: 3\\nUser Id: DbeAb8CcdfeFC2c\\nFirst Name: Kristine\\nLast Name: Travis\\nSex: Male\\nEmail: bthompson@example.com\\nPhone: 277.609.7938\\nDate of birth: 1992-07-02\\nJob Title: Homeopath'),\n",
       " Document(metadata={'source': 'D:/training/ml_algorithms/people.csv', 'row': 3}, page_content='Index: 4\\nUser Id: A31Bee3c201ef58\\nFirst Name: Yesenia\\nLast Name: Martinez\\nSex: Male\\nEmail: kaitlinkaiser@example.com\\nPhone: 584.094.6111\\nDate of birth: 2017-08-03\\nJob Title: Market researcher'),\n",
       " Document(metadata={'source': 'D:/training/ml_algorithms/people.csv', 'row': 4}, page_content='Index: 5\\nUser Id: 1bA7A3dc874da3c\\nFirst Name: Lori\\nLast Name: Todd\\nSex: Male\\nEmail: buchananmanuel@example.net\\nPhone: 689-207-3558x7233\\nDate of birth: 1938-12-01\\nJob Title: Veterinary surgeon'),\n",
       " Document(metadata={'source': 'D:/training/ml_algorithms/people.csv', 'row': 5}, page_content='Index: 6\\nUser Id: bfDD7CDEF5D865B\\nFirst Name: Erin\\nLast Name: Day\\nSex: Male\\nEmail: tconner@example.org\\nPhone: 001-171-649-9856x5553\\nDate of birth: 2015-10-28\\nJob Title: Waste management officer'),\n",
       " Document(metadata={'source': 'D:/training/ml_algorithms/people.csv', 'row': 6}, page_content='Index: 7\\nUser Id: bE9EEf34cB72AF7\\nFirst Name: Katherine\\nLast Name: Buck\\nSex: Female\\nEmail: conniecowan@example.com\\nPhone: +1-773-151-6685x49162\\nDate of birth: 1989-01-22\\nJob Title: Intelligence analyst'),\n",
       " Document(metadata={'source': 'D:/training/ml_algorithms/people.csv', 'row': 7}, page_content='Index: 8\\nUser Id: 2EFC6A4e77FaEaC\\nFirst Name: Ricardo\\nLast Name: Hinton\\nSex: Male\\nEmail: wyattbishop@example.com\\nPhone: 001-447-699-7998x88612\\nDate of birth: 1924-03-26\\nJob Title: Hydrogeologist'),\n",
       " Document(metadata={'source': 'D:/training/ml_algorithms/people.csv', 'row': 8}, page_content='Index: 9\\nUser Id: baDcC4DeefD8dEB\\nFirst Name: Dave\\nLast Name: Farrell\\nSex: Male\\nEmail: nmccann@example.net\\nPhone: 603-428-2429x27392\\nDate of birth: 2018-10-06\\nJob Title: Lawyer'),\n",
       " Document(metadata={'source': 'D:/training/ml_algorithms/people.csv', 'row': 9}, page_content='Index: 10\\nUser Id: 8e4FB470FE19bF0\\nFirst Name: Isaiah\\nLast Name: Downs\\nSex: Male\\nEmail: virginiaterrell@example.org\\nPhone: +1-511-372-1544x8206\\nDate of birth: 1964-09-20\\nJob Title: Engineer, site'),\n",
       " Document(metadata={'source': 'D:/training/ml_algorithms/people.csv', 'row': 10}, page_content='Index: 11\\nUser Id: BF0BbA03C29Bb3b\\nFirst Name: Sheila\\nLast Name: Ross\\nSex: Female\\nEmail: huangcathy@example.com\\nPhone: 895.881.4746\\nDate of birth: 2008-03-20\\nJob Title: Advertising account executive'),\n",
       " Document(metadata={'source': 'D:/training/ml_algorithms/people.csv', 'row': 11}, page_content='Index: 12\\nUser Id: F738c69fB34E62E\\nFirst Name: Stacy\\nLast Name: Newton\\nSex: Male\\nEmail: rayleroy@example.org\\nPhone: 710.673.3213x80335\\nDate of birth: 1980-10-20\\nJob Title: Warden/ranger'),\n",
       " Document(metadata={'source': 'D:/training/ml_algorithms/people.csv', 'row': 12}, page_content='Index: 13\\nUser Id: C03fDADdAadAdCe\\nFirst Name: Mandy\\nLast Name: Blake\\nSex: Male\\nEmail: jefferynoble@example.org\\nPhone: (992)466-1305x4947\\nDate of birth: 2007-12-08\\nJob Title: Scientist, clinical (histocompatibility and immunogenetics)'),\n",
       " Document(metadata={'source': 'D:/training/ml_algorithms/people.csv', 'row': 13}, page_content='Index: 14\\nUser Id: b759b74BD1dE80d\\nFirst Name: Bridget\\nLast Name: Nash\\nSex: Female\\nEmail: mercedes44@example.com\\nPhone: (216)627-8359\\nDate of birth: 2004-06-28\\nJob Title: Social worker'),\n",
       " Document(metadata={'source': 'D:/training/ml_algorithms/people.csv', 'row': 14}, page_content='Index: 15\\nUser Id: 1F0B7D65A00DAF9\\nFirst Name: Crystal\\nLast Name: Farmer\\nSex: Male\\nEmail: pmiranda@example.org\\nPhone: +1-024-377-5391\\nDate of birth: 1992-03-09\\nJob Title: Agricultural consultant'),\n",
       " Document(metadata={'source': 'D:/training/ml_algorithms/people.csv', 'row': 15}, page_content='Index: 16\\nUser Id: 50Bb061cB30B461\\nFirst Name: Thomas\\nLast Name: Knight\\nSex: Female\\nEmail: braunpriscilla@example.net\\nPhone: +1-360-880-0766\\nDate of birth: 2006-02-18\\nJob Title: Sport and exercise psychologist'),\n",
       " Document(metadata={'source': 'D:/training/ml_algorithms/people.csv', 'row': 16}, page_content='Index: 17\\nUser Id: D6dbA5308fEC4BC\\nFirst Name: Maurice\\nLast Name: Rangel\\nSex: Male\\nEmail: sheenabanks@example.com\\nPhone: (246)187-4969\\nDate of birth: 2004-08-20\\nJob Title: Secretary/administrator'),\n",
       " Document(metadata={'source': 'D:/training/ml_algorithms/people.csv', 'row': 17}, page_content='Index: 18\\nUser Id: 311D775990f066d\\nFirst Name: Frank\\nLast Name: Meadows\\nSex: Male\\nEmail: gbrewer@example.org\\nPhone: 429.965.3902x4447\\nDate of birth: 2008-09-16\\nJob Title: Audiological scientist'),\n",
       " Document(metadata={'source': 'D:/training/ml_algorithms/people.csv', 'row': 18}, page_content='Index: 19\\nUser Id: 7F7E1BAcb0C9AFf\\nFirst Name: Alvin\\nLast Name: Paul\\nSex: Male\\nEmail: gilbertdonaldson@example.com\\nPhone: 219.436.0887x07551\\nDate of birth: 1949-05-12\\nJob Title: Teacher, adult education'),\n",
       " Document(metadata={'source': 'D:/training/ml_algorithms/people.csv', 'row': 19}, page_content='Index: 20\\nUser Id: 88473e15D5c3cD0\\nFirst Name: Jared\\nLast Name: Mitchell\\nSex: Female\\nEmail: jcortez@example.com\\nPhone: +1-958-849-6781\\nDate of birth: 1921-01-18\\nJob Title: Paediatric nurse'),\n",
       " Document(metadata={'source': 'D:/training/ml_algorithms/people.csv', 'row': 20}, page_content='Index: 21\\nUser Id: b31D271F8c200AB\\nFirst Name: Jacqueline\\nLast Name: Norton\\nSex: Female\\nEmail: carias@example.net\\nPhone: 819.309.7679x59173\\nDate of birth: 1952-10-09\\nJob Title: Scientist, marine'),\n",
       " Document(metadata={'source': 'D:/training/ml_algorithms/people.csv', 'row': 21}, page_content='Index: 22\\nUser Id: 42F4BdA841aBadC\\nFirst Name: Colleen\\nLast Name: Hatfield\\nSex: Female\\nEmail: fknox@example.org\\nPhone: 638.584.1090\\nDate of birth: 1949-10-14\\nJob Title: Commercial horticulturist'),\n",
       " Document(metadata={'source': 'D:/training/ml_algorithms/people.csv', 'row': 22}, page_content='Index: 23\\nUser Id: cBbBcA0FCA3C4Bc\\nFirst Name: Randy\\nLast Name: Barnes\\nSex: Male\\nEmail: huangbill@example.org\\nPhone: 001-960-629-7164x67214\\nDate of birth: 1947-12-30\\nJob Title: Outdoor activities/education manager'),\n",
       " Document(metadata={'source': 'D:/training/ml_algorithms/people.csv', 'row': 23}, page_content='Index: 24\\nUser Id: f1f89173353aD90\\nFirst Name: Janice\\nLast Name: Rhodes\\nSex: Female\\nEmail: juarezdominique@example.net\\nPhone: 001-249-314-9742x6996\\nDate of birth: 1999-11-01\\nJob Title: Drilling engineer'),\n",
       " Document(metadata={'source': 'D:/training/ml_algorithms/people.csv', 'row': 24}, page_content='Index: 25\\nUser Id: c5B09fb33e8bA0A\\nFirst Name: Alfred\\nLast Name: Mcneil\\nSex: Female\\nEmail: cassandramorris@example.com\\nPhone: (468)276-9509x53058\\nDate of birth: 1993-05-28\\nJob Title: Systems analyst'),\n",
       " Document(metadata={'source': 'D:/training/ml_algorithms/people.csv', 'row': 25}, page_content='Index: 26\\nUser Id: c9F2282C40BEC1E\\nFirst Name: Sean\\nLast Name: Levine\\nSex: Male\\nEmail: sallymiller@example.net\\nPhone: 4915828504\\nDate of birth: 2010-10-09\\nJob Title: Conservation officer, nature'),\n",
       " Document(metadata={'source': 'D:/training/ml_algorithms/people.csv', 'row': 26}, page_content='Index: 27\\nUser Id: 9c1bc7EC53Fb7cE\\nFirst Name: Louis\\nLast Name: Payne\\nSex: Male\\nEmail: bsullivan@example.net\\nPhone: 6232695307\\nDate of birth: 1916-01-29\\nJob Title: Counsellor'),\n",
       " Document(metadata={'source': 'D:/training/ml_algorithms/people.csv', 'row': 27}, page_content='Index: 28\\nUser Id: ddEc50e2A2e3a2B\\nFirst Name: Brittney\\nLast Name: Vega\\nSex: Female\\nEmail: ayalajose@example.net\\nPhone: 945-739-8686\\nDate of birth: 1932-10-31\\nJob Title: Recycling officer'),\n",
       " Document(metadata={'source': 'D:/training/ml_algorithms/people.csv', 'row': 28}, page_content='Index: 29\\nUser Id: 66F096D36Ebae11\\nFirst Name: Judy\\nLast Name: Buckley\\nSex: Male\\nEmail: irosales@example.net\\nPhone: 001-654-208-1241x52830\\nDate of birth: 1963-07-28\\nJob Title: Art gallery manager'),\n",
       " Document(metadata={'source': 'D:/training/ml_algorithms/people.csv', 'row': 29}, page_content='Index: 30\\nUser Id: F0fE2faAd78F8b5\\nFirst Name: Norman\\nLast Name: Weber\\nSex: Male\\nEmail: mconrad@example.com\\nPhone: 223.002.0429\\nDate of birth: 1957-05-21\\nJob Title: Gaffer'),\n",
       " Document(metadata={'source': 'D:/training/ml_algorithms/people.csv', 'row': 30}, page_content='Index: 31\\nUser Id: 5d2feAfbdCAA6B5\\nFirst Name: Isaiah\\nLast Name: Camacho\\nSex: Female\\nEmail: jimblake@example.org\\nPhone: 001-536-544-3367\\nDate of birth: 1966-04-07\\nJob Title: Food technologist'),\n",
       " Document(metadata={'source': 'D:/training/ml_algorithms/people.csv', 'row': 31}, page_content='Index: 32\\nUser Id: cDa5F303fCd6dEa\\nFirst Name: Jacqueline\\nLast Name: Gallagher\\nSex: Male\\nEmail: nsampson@example.net\\nPhone: (247)762-8934\\nDate of birth: 1999-02-25\\nJob Title: Building services engineer'),\n",
       " Document(metadata={'source': 'D:/training/ml_algorithms/people.csv', 'row': 32}, page_content='Index: 33\\nUser Id: 8Ef7DBfcaB02b6B\\nFirst Name: Bonnie\\nLast Name: Andrews\\nSex: Female\\nEmail: caitlin24@example.net\\nPhone: +1-253-987-2776x9161\\nDate of birth: 1953-12-21\\nJob Title: Seismic interpreter'),\n",
       " Document(metadata={'source': 'D:/training/ml_algorithms/people.csv', 'row': 33}, page_content='Index: 34\\nUser Id: 6Dec5b5542F8ed8\\nFirst Name: Brandon\\nLast Name: Schmidt\\nSex: Female\\nEmail: mconley@example.net\\nPhone: +1-386-673-1465x006\\nDate of birth: 1931-05-12\\nJob Title: Engineer, biomedical'),\n",
       " Document(metadata={'source': 'D:/training/ml_algorithms/people.csv', 'row': 34}, page_content='Index: 35\\nUser Id: 3Fb8a7f68e12784\\nFirst Name: Jackson\\nLast Name: Sparks\\nSex: Female\\nEmail: reynoldsdarryl@example.net\\nPhone: (137)908-3129x65035\\nDate of birth: 1980-11-18\\nJob Title: Set designer'),\n",
       " Document(metadata={'source': 'D:/training/ml_algorithms/people.csv', 'row': 35}, page_content='Index: 36\\nUser Id: 035eff50B9A0F24\\nFirst Name: Melody\\nLast Name: Cook\\nSex: Male\\nEmail: jeannovak@example.org\\nPhone: (826)792-7381\\nDate of birth: 1963-06-25\\nJob Title: Research scientist (life sciences)'),\n",
       " Document(metadata={'source': 'D:/training/ml_algorithms/people.csv', 'row': 36}, page_content='Index: 37\\nUser Id: aa614aAE4B7Cf0C\\nFirst Name: Leonard\\nLast Name: Hurst\\nSex: Male\\nEmail: clinton78@example.org\\nPhone: 941-038-0427x38800\\nDate of birth: 1938-03-13\\nJob Title: Accountant, chartered management'),\n",
       " Document(metadata={'source': 'D:/training/ml_algorithms/people.csv', 'row': 37}, page_content='Index: 38\\nUser Id: ACcde95AAe3e6cC\\nFirst Name: Gene\\nLast Name: Rich\\nSex: Female\\nEmail: luisdeleon@example.org\\nPhone: +1-356-818-6604x89537\\nDate of birth: 1946-08-22\\nJob Title: Surveyor, quantity'),\n",
       " Document(metadata={'source': 'D:/training/ml_algorithms/people.csv', 'row': 38}, page_content='Index: 39\\nUser Id: b6a35de5CB6fc25\\nFirst Name: Cynthia\\nLast Name: Wiggins\\nSex: Female\\nEmail: rosariodave@example.org\\nPhone: (110)858-2437x70190\\nDate of birth: 1984-01-27\\nJob Title: Outdoor activities/education manager'),\n",
       " Document(metadata={'source': 'D:/training/ml_algorithms/people.csv', 'row': 39}, page_content='Index: 40\\nUser Id: e92A191E345fA3A\\nFirst Name: Tanya\\nLast Name: Mckinney\\nSex: Female\\nEmail: vickihouston@example.com\\nPhone: (830)774-9002x086\\nDate of birth: 2003-03-12\\nJob Title: Information systems manager'),\n",
       " Document(metadata={'source': 'D:/training/ml_algorithms/people.csv', 'row': 40}, page_content='Index: 41\\nUser Id: 7D0AcBF6CCac3fd\\nFirst Name: Matthew\\nLast Name: Stone\\nSex: Female\\nEmail: evelyn31@example.org\\nPhone: 952-381-6360\\nDate of birth: 2017-08-23\\nJob Title: Scientist, clinical (histocompatibility and immunogenetics)'),\n",
       " Document(metadata={'source': 'D:/training/ml_algorithms/people.csv', 'row': 41}, page_content='Index: 42\\nUser Id: CEFA7BBCef013AE\\nFirst Name: Kirk\\nLast Name: Walsh\\nSex: Female\\nEmail: stephenfuller@example.org\\nPhone: 001-826-496-5529x8661\\nDate of birth: 2009-04-08\\nJob Title: Accounting technician'),\n",
       " Document(metadata={'source': 'D:/training/ml_algorithms/people.csv', 'row': 42}, page_content='Index: 43\\nUser Id: 9edBC94aE7cA22a\\nFirst Name: Willie\\nLast Name: Vang\\nSex: Female\\nEmail: haleymathews@example.net\\nPhone: 741.168.6854x067\\nDate of birth: 1978-02-02\\nJob Title: Management consultant'),\n",
       " Document(metadata={'source': 'D:/training/ml_algorithms/people.csv', 'row': 43}, page_content='Index: 44\\nUser Id: fFe7BAA737aDbe2\\nFirst Name: Miguel\\nLast Name: Hill\\nSex: Female\\nEmail: tyrone56@example.org\\nPhone: 5247842945\\nDate of birth: 1930-08-26\\nJob Title: Make'),\n",
       " Document(metadata={'source': 'D:/training/ml_algorithms/people.csv', 'row': 44}, page_content='Index: 45\\nUser Id: 5F2f3fAca8B0946\\nFirst Name: Darren\\nLast Name: Andrews\\nSex: Male\\nEmail: lhernandez@example.com\\nPhone: (975)799-4261\\nDate of birth: 1997-10-04\\nJob Title: Retail banker'),\n",
       " Document(metadata={'source': 'D:/training/ml_algorithms/people.csv', 'row': 45}, page_content='Index: 46\\nUser Id: 6bFcfc3cc1BC6B4\\nFirst Name: Haley\\nLast Name: Pugh\\nSex: Female\\nEmail: molly03@example.org\\nPhone: (746)182-6137x2453\\nDate of birth: 1980-09-16\\nJob Title: Commissioning editor'),\n",
       " Document(metadata={'source': 'D:/training/ml_algorithms/people.csv', 'row': 46}, page_content='Index: 47\\nUser Id: f3BD2cBF7eEb6df\\nFirst Name: Danielle\\nLast Name: Estrada\\nSex: Female\\nEmail: jvang@example.org\\nPhone: (890)374-9518x772\\nDate of birth: 1930-07-09\\nJob Title: Accountant, chartered management'),\n",
       " Document(metadata={'source': 'D:/training/ml_algorithms/people.csv', 'row': 47}, page_content='Index: 48\\nUser Id: Ee4eB129dC7913A\\nFirst Name: Becky\\nLast Name: Brady\\nSex: Male\\nEmail: erikmueller@example.org\\nPhone: (390)002-0863\\nDate of birth: 1957-06-27\\nJob Title: Seismic interpreter'),\n",
       " Document(metadata={'source': 'D:/training/ml_algorithms/people.csv', 'row': 48}, page_content='Index: 49\\nUser Id: dBCEf340C3657Eb\\nFirst Name: Caitlyn\\nLast Name: Frey\\nSex: Male\\nEmail: rivasdominique@example.org\\nPhone: 805-021-3965x46344\\nDate of birth: 1968-01-26\\nJob Title: Jewellery designer'),\n",
       " Document(metadata={'source': 'D:/training/ml_algorithms/people.csv', 'row': 49}, page_content='Index: 50\\nUser Id: E47FB71DD9ACCd9\\nFirst Name: Joshua\\nLast Name: Sweeney\\nSex: Male\\nEmail: daisymcgee@example.net\\nPhone: 875.994.2100x535\\nDate of birth: 1954-07-28\\nJob Title: Education officer, museum'),\n",
       " Document(metadata={'source': 'D:/training/ml_algorithms/people.csv', 'row': 50}, page_content='Index: 51\\nUser Id: eA3fDd79BE9f0E7\\nFirst Name: Heidi\\nLast Name: Escobar\\nSex: Female\\nEmail: staffordtravis@example.net\\nPhone: 601-155-3065x1131\\nDate of birth: 1931-09-25\\nJob Title: Estate manager/land agent'),\n",
       " Document(metadata={'source': 'D:/training/ml_algorithms/people.csv', 'row': 51}, page_content='Index: 52\\nUser Id: aF0eE4547Bc025c\\nFirst Name: Brian\\nLast Name: Oconnell\\nSex: Female\\nEmail: saralong@example.net\\nPhone: 952-283-1423x733\\nDate of birth: 1911-10-23\\nJob Title: Physiotherapist'),\n",
       " Document(metadata={'source': 'D:/training/ml_algorithms/people.csv', 'row': 52}, page_content='Index: 53\\nUser Id: 9F5DeD7aD228F5a\\nFirst Name: Beverly\\nLast Name: Esparza\\nSex: Female\\nEmail: iphelps@example.net\\nPhone: +1-327-578-8754x6771\\nDate of birth: 1930-12-09\\nJob Title: Passenger transport manager'),\n",
       " Document(metadata={'source': 'D:/training/ml_algorithms/people.csv', 'row': 53}, page_content='Index: 54\\nUser Id: D3Fa0220dDE4d36\\nFirst Name: Nathaniel\\nLast Name: Rivas\\nSex: Female\\nEmail: roberto29@example.com\\nPhone: (655)887-2040x37888\\nDate of birth: 1908-11-17\\nJob Title: Call centre manager'),\n",
       " Document(metadata={'source': 'D:/training/ml_algorithms/people.csv', 'row': 54}, page_content='Index: 55\\nUser Id: 60FdBFd5e7BE8fF\\nFirst Name: Debra\\nLast Name: Payne\\nSex: Female\\nEmail: yolanda07@example.org\\nPhone: 001-731-525-8400x52593\\nDate of birth: 1927-08-20\\nJob Title: Special educational needs teacher'),\n",
       " Document(metadata={'source': 'D:/training/ml_algorithms/people.csv', 'row': 55}, page_content='Index: 56\\nUser Id: D8bF5Ab2b98caff\\nFirst Name: Mackenzie\\nLast Name: Rocha\\nSex: Female\\nEmail: abbottyvette@example.net\\nPhone: 4225525458\\nDate of birth: 1980-10-21\\nJob Title: Museum/gallery exhibitions officer'),\n",
       " Document(metadata={'source': 'D:/training/ml_algorithms/people.csv', 'row': 56}, page_content='Index: 57\\nUser Id: CD8d33aA25bc8BB\\nFirst Name: Courtney\\nLast Name: Watkins\\nSex: Female\\nEmail: ochang@example.org\\nPhone: 210.683.2761x5883\\nDate of birth: 2003-12-07\\nJob Title: Pension scheme manager'),\n",
       " Document(metadata={'source': 'D:/training/ml_algorithms/people.csv', 'row': 57}, page_content='Index: 58\\nUser Id: Fac3BfFf0A3d03c\\nFirst Name: Fred\\nLast Name: Olsen\\nSex: Female\\nEmail: amyanderson@example.com\\nPhone: 497-774-3053\\nDate of birth: 1910-04-10\\nJob Title: Archaeologist'),\n",
       " Document(metadata={'source': 'D:/training/ml_algorithms/people.csv', 'row': 58}, page_content='Index: 59\\nUser Id: e552D7ddafe1FFb\\nFirst Name: Ryan\\nLast Name: Nelson\\nSex: Female\\nEmail: qnorman@example.org\\nPhone: 956.330.2951\\nDate of birth: 1924-05-02\\nJob Title: Historic buildings inspector/conservation officer'),\n",
       " Document(metadata={'source': 'D:/training/ml_algorithms/people.csv', 'row': 59}, page_content='Index: 60\\nUser Id: 0f8deedb629A5f6\\nFirst Name: Grace\\nLast Name: Phelps\\nSex: Male\\nEmail: clarkeangela@example.net\\nPhone: (034)867-8827x6777\\nDate of birth: 1909-10-15\\nJob Title: Petroleum engineer'),\n",
       " Document(metadata={'source': 'D:/training/ml_algorithms/people.csv', 'row': 60}, page_content='Index: 61\\nUser Id: bB9e49E506F65ed\\nFirst Name: Shari\\nLast Name: Daugherty\\nSex: Male\\nEmail: kalvarado@example.org\\nPhone: 001-951-655-4798x6124\\nDate of birth: 1944-11-24\\nJob Title: Curator'),\n",
       " Document(metadata={'source': 'D:/training/ml_algorithms/people.csv', 'row': 61}, page_content='Index: 62\\nUser Id: Ed724605A403D91\\nFirst Name: Kelli\\nLast Name: Garner\\nSex: Male\\nEmail: jodyvincent@example.org\\nPhone: 995.000.4213x0982\\nDate of birth: 2010-01-17\\nJob Title: Retail banker'),\n",
       " Document(metadata={'source': 'D:/training/ml_algorithms/people.csv', 'row': 62}, page_content='Index: 63\\nUser Id: 0aBE5ACb18E0c10\\nFirst Name: Jackie\\nLast Name: Bennett\\nSex: Male\\nEmail: hutchinsonkirk@example.com\\nPhone: 001-740-937-0846x0087\\nDate of birth: 1915-11-11\\nJob Title: Neurosurgeon'),\n",
       " Document(metadata={'source': 'D:/training/ml_algorithms/people.csv', 'row': 63}, page_content='Index: 64\\nUser Id: 5D2cb63CaAF53f6\\nFirst Name: Leslie\\nLast Name: Conway\\nSex: Female\\nEmail: floreschristina@example.org\\nPhone: 795.782.4384x555\\nDate of birth: 1983-11-06\\nJob Title: Chiropractor'),\n",
       " Document(metadata={'source': 'D:/training/ml_algorithms/people.csv', 'row': 64}, page_content='Index: 65\\nUser Id: Ee6974f90eeCe18\\nFirst Name: Harold\\nLast Name: Barnett\\nSex: Female\\nEmail: nathan65@example.org\\nPhone: +1-026-265-6392\\nDate of birth: 1943-03-15\\nJob Title: Biochemist, clinical'),\n",
       " Document(metadata={'source': 'D:/training/ml_algorithms/people.csv', 'row': 65}, page_content='Index: 66\\nUser Id: cEf02C076afa07f\\nFirst Name: Larry\\nLast Name: Harper\\nSex: Male\\nEmail: maria32@example.org\\nPhone: +1-244-630-3792x4121\\nDate of birth: 2021-05-05\\nJob Title: Scientist, water quality'),\n",
       " Document(metadata={'source': 'D:/training/ml_algorithms/people.csv', 'row': 66}, page_content='Index: 67\\nUser Id: 9Df5Ba591bF3EFf\\nFirst Name: Mike\\nLast Name: Ward\\nSex: Female\\nEmail: imccullough@example.com\\nPhone: 116-729-5046\\nDate of birth: 1967-11-09\\nJob Title: Hydrologist'),\n",
       " Document(metadata={'source': 'D:/training/ml_algorithms/people.csv', 'row': 67}, page_content='Index: 68\\nUser Id: 3faB1CBfEFBDdD4\\nFirst Name: Brittney\\nLast Name: Rubio\\nSex: Female\\nEmail: corey92@example.com\\nPhone: 593.976.2528\\nDate of birth: 1959-12-24\\nJob Title: Biochemist, clinical'),\n",
       " Document(metadata={'source': 'D:/training/ml_algorithms/people.csv', 'row': 68}, page_content='Index: 69\\nUser Id: Ebcefdf75eCb0a9\\nFirst Name: Frank\\nLast Name: Pineda\\nSex: Male\\nEmail: daltoncalvin@example.net\\nPhone: (035)961-5060x9182\\nDate of birth: 1926-03-10\\nJob Title: Hospital pharmacist'),\n",
       " Document(metadata={'source': 'D:/training/ml_algorithms/people.csv', 'row': 69}, page_content='Index: 70\\nUser Id: e75e5DBfcb68887\\nFirst Name: Sandra\\nLast Name: Wu\\nSex: Male\\nEmail: ubanks@example.com\\nPhone: +1-096-606-6454x067\\nDate of birth: 1925-04-28\\nJob Title: Warehouse manager'),\n",
       " Document(metadata={'source': 'D:/training/ml_algorithms/people.csv', 'row': 70}, page_content='Index: 71\\nUser Id: 6a53a8D41dDF6de\\nFirst Name: Ryan\\nLast Name: Benton\\nSex: Male\\nEmail: lopezdebbie@example.org\\nPhone: +1-695-557-9948x485\\nDate of birth: 2020-10-06\\nJob Title: Physiological scientist'),\n",
       " Document(metadata={'source': 'D:/training/ml_algorithms/people.csv', 'row': 71}, page_content='Index: 72\\nUser Id: F0d3bD1aaf9E3Bc\\nFirst Name: Tamara\\nLast Name: Hull\\nSex: Male\\nEmail: meagan39@example.net\\nPhone: 017.665.3744x7944\\nDate of birth: 1933-01-31\\nJob Title: English as a second language teacher'),\n",
       " Document(metadata={'source': 'D:/training/ml_algorithms/people.csv', 'row': 72}, page_content='Index: 73\\nUser Id: 5bC87340799FBD0\\nFirst Name: Jean\\nLast Name: Ritter\\nSex: Female\\nEmail: kristina76@example.com\\nPhone: (954)060-1066\\nDate of birth: 1985-08-06\\nJob Title: Financial trader'),\n",
       " Document(metadata={'source': 'D:/training/ml_algorithms/people.csv', 'row': 73}, page_content='Index: 74\\nUser Id: dBfA17Aaf16b4ab\\nFirst Name: Veronica\\nLast Name: Briggs\\nSex: Female\\nEmail: weissbridget@example.com\\nPhone: +1-521-589-2387x48490\\nDate of birth: 1974-06-08\\nJob Title: Structural engineer'),\n",
       " Document(metadata={'source': 'D:/training/ml_algorithms/people.csv', 'row': 74}, page_content='Index: 75\\nUser Id: c935b7Eb6FA0B0F\\nFirst Name: Kim\\nLast Name: Andrews\\nSex: Female\\nEmail: wpetersen@example.org\\nPhone: 7677125383\\nDate of birth: 1990-11-15\\nJob Title: Biochemist, clinical'),\n",
       " Document(metadata={'source': 'D:/training/ml_algorithms/people.csv', 'row': 75}, page_content='Index: 76\\nUser Id: b3e15e65Ca2CcBf\\nFirst Name: Tina\\nLast Name: Cunningham\\nSex: Male\\nEmail: wongmary@example.org\\nPhone: 079-907-5051\\nDate of birth: 1956-11-29\\nJob Title: Race relations officer'),\n",
       " Document(metadata={'source': 'D:/training/ml_algorithms/people.csv', 'row': 76}, page_content='Index: 77\\nUser Id: dade3452F0c32FD\\nFirst Name: Jonathon\\nLast Name: Atkinson\\nSex: Male\\nEmail: gailfrench@example.net\\nPhone: 874-037-2032x932\\nDate of birth: 2011-07-19\\nJob Title: Psychologist, forensic'),\n",
       " Document(metadata={'source': 'D:/training/ml_algorithms/people.csv', 'row': 77}, page_content='Index: 78\\nUser Id: AdEd6cfD85DeC46\\nFirst Name: Jermaine\\nLast Name: Reid\\nSex: Female\\nEmail: vpaul@example.com\\nPhone: (742)214-8691\\nDate of birth: 1974-08-18\\nJob Title: Newspaper journalist'),\n",
       " Document(metadata={'source': 'D:/training/ml_algorithms/people.csv', 'row': 78}, page_content='Index: 79\\nUser Id: DAf111987098ae4\\nFirst Name: Regina\\nLast Name: Stevens\\nSex: Male\\nEmail: xpoole@example.net\\nPhone: 891-359-2684\\nDate of birth: 2011-11-28\\nJob Title: Public house manager'),\n",
       " Document(metadata={'source': 'D:/training/ml_algorithms/people.csv', 'row': 79}, page_content='Index: 80\\nUser Id: 6e6a5b885F6496d\\nFirst Name: Terrence\\nLast Name: Huff\\nSex: Male\\nEmail: cassandra80@example.org\\nPhone: 221.800.6408x5416\\nDate of birth: 1944-02-27\\nJob Title: Careers information officer'),\n",
       " Document(metadata={'source': 'D:/training/ml_algorithms/people.csv', 'row': 80}, page_content='Index: 81\\nUser Id: 12DCb4ED8E01D5C\\nFirst Name: Tyler\\nLast Name: Foley\\nSex: Female\\nEmail: johnathan72@example.org\\nPhone: 001-386-469-3075x8030\\nDate of birth: 1908-09-19\\nJob Title: Economist'),\n",
       " Document(metadata={'source': 'D:/training/ml_algorithms/people.csv', 'row': 81}, page_content='Index: 82\\nUser Id: E1cB5cA8CA7CC0a\\nFirst Name: Andrew\\nLast Name: Waters\\nSex: Male\\nEmail: nhall@example.net\\nPhone: +1-376-865-2765x3351\\nDate of birth: 1948-05-14\\nJob Title: Jewellery designer'),\n",
       " Document(metadata={'source': 'D:/training/ml_algorithms/people.csv', 'row': 82}, page_content='Index: 83\\nUser Id: AedDfaE8Cf49F07\\nFirst Name: Reginald\\nLast Name: Stephenson\\nSex: Male\\nEmail: erikaball@example.net\\nPhone: +1-832-500-6044x475\\nDate of birth: 2010-02-08\\nJob Title: Contracting civil engineer'),\n",
       " Document(metadata={'source': 'D:/training/ml_algorithms/people.csv', 'row': 83}, page_content='Index: 84\\nUser Id: bff9853aFAeF772\\nFirst Name: Douglas\\nLast Name: Reese\\nSex: Female\\nEmail: nixonvanessa@example.net\\nPhone: 001-834-660-8312x9864\\nDate of birth: 1961-11-11\\nJob Title: Higher education lecturer'),\n",
       " Document(metadata={'source': 'D:/training/ml_algorithms/people.csv', 'row': 84}, page_content='Index: 85\\nUser Id: E883773cA5219Be\\nFirst Name: Helen\\nLast Name: Williamson\\nSex: Female\\nEmail: melvin08@example.net\\nPhone: 001-377-726-4229\\nDate of birth: 1911-08-11\\nJob Title: Lecturer, further education'),\n",
       " Document(metadata={'source': 'D:/training/ml_algorithms/people.csv', 'row': 85}, page_content='Index: 86\\nUser Id: CB19EafEbBfF9eC\\nFirst Name: Mario\\nLast Name: Vaughn\\nSex: Male\\nEmail: oblake@example.com\\nPhone: 160-144-5039x12276\\nDate of birth: 1990-07-08\\nJob Title: Research scientist (life sciences)'),\n",
       " Document(metadata={'source': 'D:/training/ml_algorithms/people.csv', 'row': 86}, page_content='Index: 87\\nUser Id: 5834700fbEd2771\\nFirst Name: Chelsea\\nLast Name: Dickson\\nSex: Male\\nEmail: johnnyhendricks@example.net\\nPhone: 001-698-651-0138x18588\\nDate of birth: 1958-05-13\\nJob Title: Teacher, early years/pre'),\n",
       " Document(metadata={'source': 'D:/training/ml_algorithms/people.csv', 'row': 87}, page_content='Index: 88\\nUser Id: 2b0Ab1Dc9E01D7E\\nFirst Name: Dustin\\nLast Name: Bailey\\nSex: Male\\nEmail: pbarron@example.net\\nPhone: +1-965-621-1157x345\\nDate of birth: 1908-08-22\\nJob Title: Travel agency manager'),\n",
       " Document(metadata={'source': 'D:/training/ml_algorithms/people.csv', 'row': 88}, page_content='Index: 89\\nUser Id: 3f3a3D89ad042Dd\\nFirst Name: Harry\\nLast Name: Medina\\nSex: Female\\nEmail: olsenmalik@example.net\\nPhone: +1-451-099-5805\\nDate of birth: 1947-08-24\\nJob Title: Technical sales engineer'),\n",
       " Document(metadata={'source': 'D:/training/ml_algorithms/people.csv', 'row': 89}, page_content='Index: 90\\nUser Id: 9425E2F38C408ef\\nFirst Name: Kathy\\nLast Name: Haney\\nSex: Female\\nEmail: teresa37@example.com\\nPhone: (164)105-8456\\nDate of birth: 1955-09-02\\nJob Title: Charity fundraiser'),\n",
       " Document(metadata={'source': 'D:/training/ml_algorithms/people.csv', 'row': 90}, page_content='Index: 91\\nUser Id: F0aeC9c2759F3C6\\nFirst Name: Alison\\nLast Name: Nixon\\nSex: Female\\nEmail: zmiles@example.net\\nPhone: 3506680871\\nDate of birth: 1941-07-10\\nJob Title: Patent attorney'),\n",
       " Document(metadata={'source': 'D:/training/ml_algorithms/people.csv', 'row': 91}, page_content='Index: 92\\nUser Id: d6EA619A7C4aA95\\nFirst Name: Jamie\\nLast Name: Hardy\\nSex: Female\\nEmail: sheenadouglas@example.com\\nPhone: (900)803-9295x11533\\nDate of birth: 1994-07-17\\nJob Title: Conservator, furniture'),\n",
       " Document(metadata={'source': 'D:/training/ml_algorithms/people.csv', 'row': 92}, page_content='Index: 93\\nUser Id: 2A33E7Cad1bb0F5\\nFirst Name: Melody\\nLast Name: Cox\\nSex: Female\\nEmail: evan90@example.org\\nPhone: (626)520-5080x3511\\nDate of birth: 1974-07-30\\nJob Title: Dance movement psychotherapist'),\n",
       " Document(metadata={'source': 'D:/training/ml_algorithms/people.csv', 'row': 93}, page_content='Index: 94\\nUser Id: d181FFB7d3E68bb\\nFirst Name: Xavier\\nLast Name: Cole\\nSex: Male\\nEmail: nicolas90@example.org\\nPhone: 8164259975\\nDate of birth: 1938-11-29\\nJob Title: Financial planner'),\n",
       " Document(metadata={'source': 'D:/training/ml_algorithms/people.csv', 'row': 94}, page_content='Index: 95\\nUser Id: feaBf8dAE0C0d6F\\nFirst Name: Dillon\\nLast Name: Guzman\\nSex: Female\\nEmail: angelanavarro@example.net\\nPhone: 971-992-4521\\nDate of birth: 1942-04-01\\nJob Title: Air broker'),\n",
       " Document(metadata={'source': 'D:/training/ml_algorithms/people.csv', 'row': 95}, page_content='Index: 96\\nUser Id: 5eFda7caAeB260E\\nFirst Name: Dennis\\nLast Name: Barnes\\nSex: Female\\nEmail: bmartin@example.org\\nPhone: 001-095-524-2112x257\\nDate of birth: 1954-07-30\\nJob Title: Software engineer'),\n",
       " Document(metadata={'source': 'D:/training/ml_algorithms/people.csv', 'row': 96}, page_content='Index: 97\\nUser Id: CCbFce93d3720bE\\nFirst Name: Steve\\nLast Name: Patterson\\nSex: Female\\nEmail: latasha46@example.net\\nPhone: 001-865-478-5157\\nDate of birth: 1932-04-29\\nJob Title: Barrister'),\n",
       " Document(metadata={'source': 'D:/training/ml_algorithms/people.csv', 'row': 97}, page_content='Index: 98\\nUser Id: 2fEc528aFAF0b69\\nFirst Name: Wesley\\nLast Name: Bray\\nSex: Male\\nEmail: regina11@example.org\\nPhone: 995-542-3004x76800\\nDate of birth: 1994-12-28\\nJob Title: Police officer'),\n",
       " Document(metadata={'source': 'D:/training/ml_algorithms/people.csv', 'row': 98}, page_content='Index: 99\\nUser Id: Adc7ad9B6e4A1Fe\\nFirst Name: Summer\\nLast Name: Oconnell\\nSex: Female\\nEmail: alexiscantrell@example.org\\nPhone: 001-273-685-6932x092\\nDate of birth: 2012-04-12\\nJob Title: Broadcast journalist'),\n",
       " Document(metadata={'source': 'D:/training/ml_algorithms/people.csv', 'row': 99}, page_content='Index: 100\\nUser Id: b8D0aD3490FC7e1\\nFirst Name: Mariah\\nLast Name: Bernard\\nSex: Male\\nEmail: pcopeland@example.org\\nPhone: (341)594-6554x44657\\nDate of birth: 2016-11-15\\nJob Title: IT sales professional')]"
      ]
     },
     "execution_count": 13,
     "metadata": {},
     "output_type": "execute_result"
    }
   ],
   "source": [
    "csv_loader = CSVLoader(\n",
    "    \"D:/training/ml_algorithms/people.csv\"\n",
    ")\n",
    "csv_data = csv_loader.load()\n",
    "csv_data"
   ]
  },
  {
   "cell_type": "markdown",
   "metadata": {},
   "source": [
    "## Adding context from a HTML file"
   ]
  },
  {
   "cell_type": "code",
   "execution_count": 14,
   "metadata": {},
   "outputs": [],
   "source": [
    "from langchain_community.document_loaders import UnstructuredHTMLLoader"
   ]
  },
  {
   "cell_type": "code",
   "execution_count": 15,
   "metadata": {},
   "outputs": [
    {
     "data": {
      "text/plain": [
       "[Document(metadata={'source': 'D:/training/ml_algorithms/pricing.html'}, page_content=\"Pricing Page\\n\\nPricing\\n\\nOur Pricing Plans\\n\\nThere are many variations of passages of Lorem Ipsum available but the majority have suffered alteration in some form.\\n\\nSTARTING FROM\\n\\n$ 19.99/mo\\n\\n5 User\\n\\nAll UI components\\n\\nLifetime access\\n\\nFree updates\\n\\nUse on 1 (one) project\\n\\n4 Months support\\n\\nPurchase Now\\n\\nPOPULAR\\n\\nSTARTING FROM\\n\\n$ 30.99/mo\\n\\n5 User\\n\\nAll UI components\\n\\nLifetime access\\n\\nFree updates\\n\\nUse on 1 (one) project\\n\\n4 Months support\\n\\nPurchase Now\\n\\nSTARTING FROM\\n\\n$ 70.99/mo\\n\\n5 User\\n\\nAll UI components\\n\\nLifetime access\\n\\nFree updates\\n\\nUse on 1 (one) project\\n\\n4 Months support\\n\\nPurchase Now\\n\\nshape\\n\\nFAQ\\n\\nAny Questions? Answered\\n\\nThere are many variations of passages of Lorem Ipsum available but the majority have suffered alteration in some form.\\n\\nLorem Ipsum is simply dummy text of the printing and typesetting industry. Lorem Ipsum has been the industry's standard dummy text ever since the 1500s, when an unknown printer took a galley of type and scrambled it to make a type specimen book.\\n\\nLorem Ipsum is simply dummy text of the printing and typesetting industry. Lorem Ipsum has been the industry's standard dummy text ever since the 1500s, when an unknown printer took a galley of type and scrambled it to make a type specimen book.\\n\\nLorem Ipsum is simply dummy text of the printing and typesetting industry. Lorem Ipsum has been the industry's standard dummy text ever since the 1500s, when an unknown printer took a galley of type and scrambled it to make a type specimen book.\\n\\nLorem Ipsum is simply dummy text of the printing and typesetting industry. Lorem Ipsum has been the industry's standard dummy text ever since the 1500s, when an unknown printer took a galley of type and scrambled it to make a type specimen book.\\n\\nLorem Ipsum is simply dummy text of the printing and typesetting industry. Lorem Ipsum has been the industry's standard dummy text ever since the 1500s, when an unknown printer took a galley of type and scrambled it to make a type specimen book.\\n\\nLorem Ipsum is simply dummy text of the printing and typesetting industry. Lorem Ipsum has been the industry's standard dummy text ever since the 1500s, when an unknown printer took a galley of type and scrambled it to make a type specimen book.\\n\\nshape\\n\\nshape\\n\\nshape\\n\\nStartup Template\\n\\nWe create digital experiences for brands and companies by using technology.\\n\\nAbout Us\\n\\nHome\\n\\nFeatures\\n\\nAbout\\n\\nTestimonial\\n\\nFeatures\\n\\nHow it works\\n\\nPrivacy policy\\n\\nTerms of service\\n\\nRefund policy\\n\\nOur Products\\n\\nLineicons\\n\\nEcommerce HTML\\n\\nAyro UI\\n\\nPlain Admin\\n\\nPartners\\n\\nayroui\\n\\necommerce-html\\n\\ngraygrids\\n\\nlineicons\\n\\nuideck\\n\\ntailwindtemplates\\n\\nPrivacy policy\\n\\nSupport policy\\n\\nTerms of service\\n\\nDesigned and Developed by haudev\")]"
      ]
     },
     "execution_count": 15,
     "metadata": {},
     "output_type": "execute_result"
    }
   ],
   "source": [
    "html_loader = UnstructuredHTMLLoader(\n",
    "    \"D:/training/ml_algorithms/pricing.html\"\n",
    ")\n",
    "html_data = html_loader.load()\n",
    "html_data"
   ]
  },
  {
   "cell_type": "markdown",
   "metadata": {},
   "source": [
    "## Adding context from a pdf file"
   ]
  },
  {
   "cell_type": "code",
   "execution_count": 16,
   "metadata": {},
   "outputs": [],
   "source": [
    "from langchain_community.document_loaders import PyPDFLoader"
   ]
  },
  {
   "cell_type": "code",
   "execution_count": 18,
   "metadata": {},
   "outputs": [
    {
     "data": {
      "text/plain": [
       "[Document(metadata={'producer': 'LibreOffice 24.8.1.2 (X86_64) / LibreOffice Community', 'creator': 'Writer', 'creationdate': '2025-03-15T16:30:21+00:00', 'source': 'D:/training/ml_algorithms/my_pet.pdf', 'total_pages': 1, 'page': 0, 'page_label': '1'}, page_content=\"Micky, my German Shepherd, is the perfect mix of calm and playful energy. He has \\na friendly nature that makes him a joy to be around, always greeting everyone \\nwith a wagging tail. Despite his large and strong build, he is incredibly gentle \\nand loves to spend time playing, whether it's chasing a ball or running around \\nthe yard. His intelligence and loyalty make him not just a pet but a true \\ncompanion. Whether he's lounging by my side or eagerly waiting for our next \\ngame, Micky brings happiness and warmth to every moment.\")]"
      ]
     },
     "execution_count": 18,
     "metadata": {},
     "output_type": "execute_result"
    }
   ],
   "source": [
    "pdf_loader = PyPDFLoader(\n",
    "    \"D:/training/ml_algorithms/my_pet.pdf\"\n",
    ")\n",
    "pdf_data = pdf_loader.load()\n",
    "pdf_data"
   ]
  },
  {
   "cell_type": "markdown",
   "metadata": {},
   "source": [
    "## Adding context through wikipedia"
   ]
  },
  {
   "cell_type": "code",
   "execution_count": 19,
   "metadata": {},
   "outputs": [],
   "source": [
    "from langchain_community.document_loaders import WikipediaLoader"
   ]
  },
  {
   "cell_type": "code",
   "execution_count": 20,
   "metadata": {},
   "outputs": [
    {
     "data": {
      "text/plain": [
       "[Document(metadata={'title': 'Tesla, Inc.', 'summary': 'Tesla, Inc. (  TESS-lə or  TEZ-lə) is an American multinational automotive and clean energy company. Headquartered in Austin, Texas, it designs, manufactures and sells battery electric vehicles (BEVs), stationary battery energy storage devices from home to grid-scale, solar panels and solar shingles, and related products and services.\\nTesla was incorporated in July 2003 by Martin Eberhard and Marc Tarpenning as Tesla Motors. Its name is a tribute to inventor and electrical engineer Nikola Tesla. In February 2004, Elon Musk led Tesla\\'s first funding round and became the company\\'s chairman; in 2008, he was named chief executive officer. In 2008, the company began production of its first car model, the Roadster sports car, followed by the Model S sedan in 2012, the Model X SUV in 2015, the Model 3 sedan in 2017, the Model Y crossover in 2020, the Tesla Semi truck in 2022 and the Cybertruck pickup truck in 2023.\\nTesla is one of the world\\'s most valuable companies in terms of market capitalization. Starting in July 2020, it has been the world\\'s most valuable automaker. From October 2021 to March 2022, Tesla was a trillion-dollar company, the seventh U.S. company to reach that valuation. Tesla exceeded $1 trillion in market capitalization again between November 2024 and February 2025. In 2023, the company led the battery electric vehicle market, with 19.9% share. Also in 2023, the company was ranked 69th in the Forbes Global 2000.\\nTesla has been the subject of lawsuits, government scrutiny, and journalistic criticism, stemming from allegations of multiple cases of whistleblower retaliation, worker rights violations such as sexual harassment and anti-union activities, safety defects leading to dozens of recalls, the lack of a public relations department, and controversial statements from Musk including overpromising on the company\\'s driving assist technology and product release timelines. Opponents of Musk have launched the \"Tesla Takedown\" campaign in response to the views of Musk and his role in Department of Government Efficiency (DOGE).\\n\\n', 'source': 'https://en.wikipedia.org/wiki/Tesla,_Inc.'}, page_content='Tesla, Inc. (  TESS-lə or  TEZ-lə) is an American multinational automotive and clean energy company. Headquartered in Austin, Texas, it designs, manufactures and sells battery electric vehicles (BEVs), stationary battery energy storage devices from home to grid-scale, solar panels and solar shingles, and related products and services.\\nTesla was incorporated in July 2003 by Martin Eberhard and Marc Tarpenning as Tesla Motors. Its name is a tribute to inventor and electrical engineer Nikola Tesla. In February 2004, Elon Musk led Tesla\\'s first funding round and became the company\\'s chairman; in 2008, he was named chief executive officer. In 2008, the company began production of its first car model, the Roadster sports car, followed by the Model S sedan in 2012, the Model X SUV in 2015, the Model 3 sedan in 2017, the Model Y crossover in 2020, the Tesla Semi truck in 2022 and the Cybertruck pickup truck in 2023.\\nTesla is one of the world\\'s most valuable companies in terms of market capitalization. Starting in July 2020, it has been the world\\'s most valuable automaker. From October 2021 to March 2022, Tesla was a trillion-dollar company, the seventh U.S. company to reach that valuation. Tesla exceeded $1 trillion in market capitalization again between November 2024 and February 2025. In 2023, the company led the battery electric vehicle market, with 19.9% share. Also in 2023, the company was ranked 69th in the Forbes Global 2000.\\nTesla has been the subject of lawsuits, government scrutiny, and journalistic criticism, stemming from allegations of multiple cases of whistleblower retaliation, worker rights violations such as sexual harassment and anti-union activities, safety defects leading to dozens of recalls, the lack of a public relations department, and controversial statements from Musk including overpromising on the company\\'s driving assist technology and product release timelines. Opponents of Musk have launched the \"Tesla Takedown\" campaign in response to the views of Musk and his role in Department of Government Efficiency (DOGE).\\n\\n\\n== History ==\\n\\n\\n=== Founding (2003–2004) ===\\nThe company was incorporated as Tesla Motors, Inc. on July 1, 2003, by Martin Eberhard and Marc Tarpenning. They served as chief executive officer and chief financial officer, respectively. Eberhard said that he wanted to build \"a car manufacturer that is also a technology company\", with its core technologies as \"the battery, the computer software, and the proprietary motor\".\\nIan Wright joined Eberhard and Tarpenning a few months later. In February 2004, the company raised US$7.5 million (equivalent to $12 million in 2024) in series A funding, including $6.5 million (equivalent to $11 million in 2024) from Elon Musk, who had received $100 million from the sale of his interest in PayPal two years earlier. Musk became the chairman of the board of directors and the largest shareholder of Tesla. J. B. Straubel joined Tesla in May 2004 as chief technical officer.\\nA lawsuit settlement agreed to by Eberhard and Tesla in September 2009 allows all five – Eberhard, Tarpenning, Wright, Musk, and Straubel – to call themselves co-founders.\\n\\n\\n=== Roadster (2005–2009) ===\\n\\nElon Musk took an active role within the company, but was not deeply involved in day-to-day business operations. The company\\'s strategy was to start with a premium sports car aimed at early adopters and then move into more mainstream vehicles, including sedans and affordable compacts.\\nIn February 2006, Musk led Tesla\\'s Series B venture capital funding round of $13 million, which added Valor Equity Partners to the funding team. Musk co-led the third, $40 million round in May 2006 which saw investment from prominent entrepreneurs including Google co-founders Sergey Brin and Larry Page, and former eBay president Jeff Skoll. A fourth round worth $45 million in May 2007 brought the total private financing investment to over $105 million.\\nIn August 2007, Eberhard was asked by the board, led by Elon Musk')]"
      ]
     },
     "execution_count": 20,
     "metadata": {},
     "output_type": "execute_result"
    }
   ],
   "source": [
    "wiki_loader = WikipediaLoader(\n",
    "    query=\"Tesla\",\n",
    "    load_max_docs=1\n",
    ")\n",
    "wiki_data = wiki_loader.load()\n",
    "wiki_data"
   ]
  },
  {
   "cell_type": "code",
   "execution_count": null,
   "metadata": {},
   "outputs": [],
   "source": []
  },
  {
   "cell_type": "code",
   "execution_count": null,
   "metadata": {},
   "outputs": [],
   "source": []
  },
  {
   "cell_type": "code",
   "execution_count": null,
   "metadata": {},
   "outputs": [],
   "source": []
  },
  {
   "cell_type": "code",
   "execution_count": null,
   "metadata": {},
   "outputs": [],
   "source": []
  },
  {
   "cell_type": "code",
   "execution_count": null,
   "metadata": {},
   "outputs": [],
   "source": []
  },
  {
   "cell_type": "code",
   "execution_count": null,
   "metadata": {},
   "outputs": [],
   "source": []
  },
  {
   "cell_type": "code",
   "execution_count": null,
   "metadata": {},
   "outputs": [],
   "source": []
  }
 ],
 "metadata": {
  "kernelspec": {
   "display_name": "langchaingroq",
   "language": "python",
   "name": "python3"
  },
  "language_info": {
   "codemirror_mode": {
    "name": "ipython",
    "version": 3
   },
   "file_extension": ".py",
   "mimetype": "text/x-python",
   "name": "python",
   "nbconvert_exporter": "python",
   "pygments_lexer": "ipython3",
   "version": "3.10.0"
  }
 },
 "nbformat": 4,
 "nbformat_minor": 2
}
