{
 "cells": [
  {
   "cell_type": "code",
   "execution_count": 1,
   "metadata": {},
   "outputs": [
    {
     "data": {
      "text/plain": [
       "'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'"
      ]
     },
     "execution_count": 1,
     "metadata": {},
     "output_type": "execute_result"
    }
   ],
   "source": [
    "import os\n",
    "from dotenv import load_dotenv\n",
    "from langchain_core.prompts import PromptTemplate\n",
    "from langchain_core.prompts import ChatPromptTemplate\n",
    "from langchain_groq import ChatGroq\n",
    "load_dotenv()\n",
    "groq_key = os.getenv(\"GROQ\")\n",
    "groq_key"
   ]
  },
  {
   "cell_type": "code",
   "execution_count": 6,
   "metadata": {},
   "outputs": [],
   "source": [
    "groq_model = ChatGroq(\n",
    "    model=\"llama3-70b-8192\",\n",
    "    groq_api_key=groq_key)"
   ]
  },
  {
   "cell_type": "code",
   "execution_count": 8,
   "metadata": {},
   "outputs": [],
   "source": [
    "from langchain_community.document_loaders import TextLoader\n",
    "from langchain_text_splitters import CharacterTextSplitter, RecursiveCharacterTextSplitter\n",
    "from langchain.vectorstores import Chroma, FAISS\n",
    "from langchain.embeddings import HuggingFaceEmbeddings"
   ]
  },
  {
   "cell_type": "code",
   "execution_count": 10,
   "metadata": {},
   "outputs": [
    {
     "name": "stdout",
     "output_type": "stream",
     "text": [
      "[Document(id='e5b97fce-d9c5-4289-9e47-d82a5c37c9ee', metadata={'source': 'D:/training/ml_algorithms/my_pet.txt'}, page_content='a friendly nature that'), Document(id='0dc0081e-7fe9-47ae-8c6c-255d76c4d662', metadata={'source': 'D:/training/ml_algorithms/my_pet.txt'}, page_content='him not just a pet but a')]\n"
     ]
    }
   ],
   "source": [
    "loader = TextLoader(\n",
    "    \"D:/training/ml_algorithms/my_pet.txt\"\n",
    ")\n",
    "text_file = loader.load()\n",
    "reccursive_text_splitter_txt = RecursiveCharacterTextSplitter(\n",
    "    chunk_size=25,\n",
    "    chunk_overlap=2\n",
    ")\n",
    "texts_txt_reccursive = reccursive_text_splitter_txt.split_text(text_file[0].page_content)\n",
    "texts_txt_reccursive\n",
    "texts_txt_reccursive_chunks = reccursive_text_splitter_txt.split_documents(text_file)\n",
    "embedding_model = HuggingFaceEmbeddings(model_name=\"BAAI/bge-small-en\")\n",
    "# Create ChromaDB vector store using FAISS\n",
    "vector_db_reccursive = FAISS.from_documents(\n",
    "    documents=texts_txt_reccursive_chunks,\n",
    "    embedding=embedding_model  # This now uses the correct embedding class\n",
    ")\n",
    "retriver = vector_db_reccursive.as_retriever(search_kwargs={\"k\": 2})\n",
    "question_txt = \"What is the nature of my pet dog?\"\n",
    "response = retriver.invoke(question_txt)\n",
    "print(response)\n"
   ]
  },
  {
   "cell_type": "code",
   "execution_count": 13,
   "metadata": {},
   "outputs": [],
   "source": [
    "template = \"\"\"Answer question based on on the following context:\n",
    "{context}\n",
    "\n",
    "Question: {question}\n",
    "\"\"\"\n",
    "prompt = ChatPromptTemplate.from_template(template)"
   ]
  },
  {
   "cell_type": "code",
   "execution_count": 16,
   "metadata": {},
   "outputs": [],
   "source": [
    "from langchain_core.output_parsers import StrOutputParser\n",
    "from langchain_core.runnables import RunnablePassthrough\n",
    "## TO get the page contents\n",
    "def format_docs(docs):\n",
    "    return \"\\n\\n\".join([d.page_content for d in docs])\n",
    "chain = (\n",
    "    {\n",
    "        \"context\": retriver | format_docs, \n",
    "        \"question\": RunnablePassthrough()\n",
    "    }\n",
    "    | prompt\n",
    "    | groq_model\n",
    "    | StrOutputParser()\n",
    ")"
   ]
  },
  {
   "cell_type": "code",
   "execution_count": 18,
   "metadata": {},
   "outputs": [
    {
     "name": "stdout",
     "output_type": "stream",
     "text": [
      "Based on the context, the answer is: a friendly nature.\n"
     ]
    }
   ],
   "source": [
    "response_final = chain.invoke(question_txt)\n",
    "print(response_final)"
   ]
  }
 ],
 "metadata": {
  "kernelspec": {
   "display_name": "langchaingroq",
   "language": "python",
   "name": "python3"
  },
  "language_info": {
   "codemirror_mode": {
    "name": "ipython",
    "version": 3
   },
   "file_extension": ".py",
   "mimetype": "text/x-python",
   "name": "python",
   "nbconvert_exporter": "python",
   "pygments_lexer": "ipython3",
   "version": "3.10.0"
  }
 },
 "nbformat": 4,
 "nbformat_minor": 2
}
