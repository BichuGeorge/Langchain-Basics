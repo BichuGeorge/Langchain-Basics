{
 "cells": [
  {
   "cell_type": "code",
   "execution_count": 1,
   "metadata": {},
   "outputs": [
    {
     "name": "stderr",
     "output_type": "stream",
     "text": [
      "c:\\Users\\Public\\anaconda3\\envs\\langchaingroq\\lib\\site-packages\\tqdm\\auto.py:21: TqdmWarning: IProgress not found. Please update jupyter and ipywidgets. See https://ipywidgets.readthedocs.io/en/stable/user_install.html\n",
      "  from .autonotebook import tqdm as notebook_tqdm\n"
     ]
    },
    {
     "data": {
      "text/plain": [
       "'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'"
      ]
     },
     "execution_count": 1,
     "metadata": {},
     "output_type": "execute_result"
    }
   ],
   "source": [
    "from langchain_groq import ChatGroq\n",
    "from sentence_transformers import SentenceTransformer\n",
    "from langchain.vectorstores import Chroma, FAISS\n",
    "from langchain.embeddings import HuggingFaceEmbeddings\n",
    "from langchain.prompts import PromptTemplate\n",
    "from dotenv import load_dotenv\n",
    "import os\n",
    "load_dotenv()\n",
    "groq_key = os.getenv(\"GROQ\")\n",
    "groq_key"
   ]
  },
  {
   "cell_type": "code",
   "execution_count": 2,
   "metadata": {},
   "outputs": [],
   "source": [
    "groq_model = ChatGroq(\n",
    "    model=\"llama3-70b-8192\",\n",
    "    groq_api_key=groq_key)"
   ]
  },
  {
   "cell_type": "code",
   "execution_count": 3,
   "metadata": {},
   "outputs": [],
   "source": [
    "from langchain_core.output_parsers import StrOutputParser\n",
    "from langchain_core.prompts import ChatPromptTemplate\n",
    "prompt = ChatPromptTemplate.from_template(\n",
    "    \"Tell me a sentence about {person}\"\n",
    ")\n",
    "chain = prompt | groq_model | StrOutputParser()"
   ]
  },
  {
   "cell_type": "code",
   "execution_count": 5,
   "metadata": {},
   "outputs": [
    {
     "name": "stdout",
     "output_type": "stream",
     "text": [
      "Here is a sentence about Donald Trump:\n",
      "\n",
      "Donald Trump served as the 45th President of the United States from 2017 to 2021.\n"
     ]
    }
   ],
   "source": [
    "print(\n",
    "    chain.invoke(\n",
    "        input=\"Donald Trump\"\n",
    "    )\n",
    ")"
   ]
  },
  {
   "cell_type": "code",
   "execution_count": 7,
   "metadata": {},
   "outputs": [],
   "source": [
    "historian_prompt = ChatPromptTemplate.from_template(\n",
    "    \"Was {person} positive for humanity?\"\n",
    ")"
   ]
  },
  {
   "cell_type": "code",
   "execution_count": 8,
   "metadata": {},
   "outputs": [],
   "source": [
    "combined_chain = {\n",
    "    \"person\": chain\n",
    "} | historian_prompt | groq_model | StrOutputParser()\n"
   ]
  },
  {
   "cell_type": "code",
   "execution_count": 9,
   "metadata": {},
   "outputs": [
    {
     "name": "stdout",
     "output_type": "stream",
     "text": [
      "An interesting question!\n",
      "\n",
      "While opinions about Donald Trump are highly divided, I'll try to provide a balanced analysis of his impact on humanity.\n",
      "\n",
      "Positive aspects:\n",
      "\n",
      "1. **Economic growth**: During Trump's presidency, the US economy experienced a period of growth, with low unemployment rates and a rise in stock markets. This had a positive impact on many Americans and contributed to global economic stability.\n",
      "2. **Tax reforms**: Trump's tax cuts and reforms, known as the Tax Cuts and Jobs Act, lowered corporate tax rates, which encouraged businesses to invest in the US and create jobs.\n",
      "3. **Deregulation**: Trump's administration rolled back various regulations, particularly in the energy and financial sectors, which may have stimulated economic activity and innovation.\n",
      "4. **Space exploration**: Trump's administration revived the National Space Council and increased funding for space exploration, which could lead to breakthroughs in science, technology, and human understanding.\n",
      "\n",
      "Negative aspects:\n",
      "\n",
      "1. **Polarization and division**: Trump's presidency was marked by controversy, divisiveness, and a erosion of civil discourse, which may have contributed to increased polarization and social unrest in the US and globally.\n",
      "2. **Environmental concerns**: Trump's administration rolled back environmental regulations, withdrew from the Paris Climate Agreement, and questioned the scientific consensus on climate change, which could have long-term negative consequences for the planet.\n",
      "3. **Trade policies**: Trump's protectionist trade policies, including tariffs and trade wars, may have disrupted global supply chains, hurt certain industries, and contributed to economic uncertainty.\n",
      "4. **Racial and social tensions**: Trump's rhetoric and policies were criticized for exacerbating racial and social tensions, particularly towards immigrants, minorities, and marginalized groups.\n",
      "\n",
      "In conclusion, while Trump's presidency had some positive economic and scientific impacts, they are arguably outweighed by the negative consequences of his divisive rhetoric, environmental policies, and trade decisions. Ultimately, the assessment of his presidency's impact on humanity will depend on individual perspectives and values.\n"
     ]
    }
   ],
   "source": [
    "print(\n",
    "    combined_chain.invoke(\n",
    "        input=\"Donald Trump\"\n",
    "    )\n",
    ")"
   ]
  },
  {
   "cell_type": "code",
   "execution_count": 11,
   "metadata": {},
   "outputs": [],
   "source": [
    "from operator import itemgetter\n",
    "prompt1 = ChatPromptTemplate.from_template(\n",
    "    \"What is the country {person} is from?\"\n",
    ")\n",
    "prompt2 = ChatPromptTemplate.from_template(\n",
    "    \"What continent is the country {country} in? respond in {language}\"\n",
    ")"
   ]
  },
  {
   "cell_type": "code",
   "execution_count": 13,
   "metadata": {},
   "outputs": [],
   "source": [
    "chain1 = prompt1 | groq_model | StrOutputParser()\n"
   ]
  },
  {
   "cell_type": "code",
   "execution_count": null,
   "metadata": {},
   "outputs": [],
   "source": [
    "chain2 = (\n",
    "    {\n",
    "        \"country\": chain1, \"language\": itemgetter(\"language\")\n",
    "    } | prompt2 | groq_model | StrOutputParser()\n",
    ")\n",
    "\n",
    "## Output of chain1 to chain2 along with the input of chain2"
   ]
  },
  {
   "cell_type": "code",
   "execution_count": 21,
   "metadata": {},
   "outputs": [
    {
     "data": {
      "text/plain": [
       "'जैकी चान हॉन्ग कॉन्ग से है, जो चीन का एक विशेष प्रशासनिक क्षेत्र है। वह एशिया महाद्वीप में स्थित है।'"
      ]
     },
     "execution_count": 21,
     "metadata": {},
     "output_type": "execute_result"
    }
   ],
   "source": [
    "chain2.invoke(\n",
    "    {\"person\": \"Jakie chan\", \"language\": \"hindi\"}\n",
    ")"
   ]
  }
 ],
 "metadata": {
  "kernelspec": {
   "display_name": "langchaingroq",
   "language": "python",
   "name": "python3"
  },
  "language_info": {
   "codemirror_mode": {
    "name": "ipython",
    "version": 3
   },
   "file_extension": ".py",
   "mimetype": "text/x-python",
   "name": "python",
   "nbconvert_exporter": "python",
   "pygments_lexer": "ipython3",
   "version": "3.10.0"
  }
 },
 "nbformat": 4,
 "nbformat_minor": 2
}
