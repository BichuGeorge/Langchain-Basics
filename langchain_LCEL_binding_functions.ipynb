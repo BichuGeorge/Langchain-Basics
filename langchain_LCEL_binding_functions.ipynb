{
 "cells": [
  {
   "cell_type": "markdown",
   "metadata": {},
   "source": [
    "### Binding function to stop the generation when we get a particular word or string"
   ]
  },
  {
   "cell_type": "code",
   "execution_count": 1,
   "metadata": {},
   "outputs": [
    {
     "name": "stderr",
     "output_type": "stream",
     "text": [
      "c:\\Users\\Public\\anaconda3\\envs\\langchaingroq\\lib\\site-packages\\tqdm\\auto.py:21: TqdmWarning: IProgress not found. Please update jupyter and ipywidgets. See https://ipywidgets.readthedocs.io/en/stable/user_install.html\n",
      "  from .autonotebook import tqdm as notebook_tqdm\n"
     ]
    },
    {
     "data": {
      "text/plain": [
       "'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'"
      ]
     },
     "execution_count": 1,
     "metadata": {},
     "output_type": "execute_result"
    }
   ],
   "source": [
    "from langchain_groq import ChatGroq\n",
    "from sentence_transformers import SentenceTransformer\n",
    "from langchain.vectorstores import Chroma, FAISS\n",
    "from langchain.embeddings import HuggingFaceEmbeddings\n",
    "from langchain.prompts import PromptTemplate\n",
    "from dotenv import load_dotenv\n",
    "import os\n",
    "load_dotenv()\n",
    "groq_key = os.getenv(\"GROQ\")\n",
    "groq_key"
   ]
  },
  {
   "cell_type": "code",
   "execution_count": 2,
   "metadata": {},
   "outputs": [],
   "source": [
    "groq_model = ChatGroq(\n",
    "    model=\"llama3-70b-8192\",\n",
    "    groq_api_key=groq_key)"
   ]
  },
  {
   "cell_type": "code",
   "execution_count": 3,
   "metadata": {},
   "outputs": [],
   "source": [
    "from langchain_core.output_parsers import StrOutputParser\n",
    "from langchain_core.prompts import ChatPromptTemplate"
   ]
  },
  {
   "cell_type": "code",
   "execution_count": 8,
   "metadata": {},
   "outputs": [],
   "source": [
    "prompt = ChatPromptTemplate.from_template(\n",
    "    \"tell me a curious fact about {person}.\"\n",
    ")\n",
    "output_parser = StrOutputParser()"
   ]
  },
  {
   "cell_type": "code",
   "execution_count": 9,
   "metadata": {},
   "outputs": [],
   "source": [
    "chain = prompt | groq_model | output_parser"
   ]
  },
  {
   "cell_type": "code",
   "execution_count": 11,
   "metadata": {},
   "outputs": [
    {
     "name": "stdout",
     "output_type": "stream",
     "text": [
      "Here's a curious fact about Albert Einstein:\n",
      "\n",
      "**Einstein's brain was stolen after his death!**\n",
      "\n",
      "When Einstein passed away in 1955, his body was cremated, but his brain was removed by the pathologist Thomas Harvey, who was fascinated by the idea of studying the brain of a genius. Harvey believed that by examining Einstein's brain, he could uncover the secrets of his extraordinary intelligence and creativity.\n",
      "\n",
      "Without the permission of Einstein's family, Harvey sliced the brain into 240 blocks, mounted them on microscope slides, and distributed them to various researchers and scientists around the world. Over the years, many studies have been conducted on these slices, searching for clues about Einstein's cognitive abilities.\n",
      "\n",
      "Some researchers have claimed to have found unusual features in Einstein's brain, such as a higher-than-average number of glial cells, which may have contributed to his exceptional cognitive abilities. However, these findings have been disputed by other scientists, and the debate continues to this day.\n",
      "\n",
      "The story of Einstein's stolen brain has become a fascinating footnote in the history of science, highlighting the enduring public fascination with the mysteries of genius and the human brain.\n"
     ]
    }
   ],
   "source": [
    "print(chain.invoke(\n",
    "    {\n",
    "     \"person\": \"Albert Einstein\"   \n",
    "    }\n",
    "))"
   ]
  },
  {
   "cell_type": "markdown",
   "metadata": {},
   "source": [
    "#### Use of .bind to add arguments to a Runnable in LCEL Chain"
   ]
  },
  {
   "cell_type": "code",
   "execution_count": 12,
   "metadata": {},
   "outputs": [
    {
     "name": "stdout",
     "output_type": "stream",
     "text": [
      "Here's one:\n",
      "\n",
      "Albert Einstein's brain was stolen after he died!\n",
      "\n",
      "In 1955, Thomas Harvey, the pathologist who performed Einstein's autopsy, removed his brain and kept it without permission. He was fascinated by the possibility that the brain of a genius like Einstein might hold some secrets to his extraordinary intelligence.\n",
      "\n",
      "Harvey sectioned the brain into 240 blocks and distributed them to various researchers, who studied them extensively. In the 1990s, a team of \n"
     ]
    }
   ],
   "source": [
    "chain = prompt | groq_model.bind(stop=['researchers ']) | output_parser\n",
    "print(chain.invoke(\n",
    "    {\n",
    "     \"person\": \"Albert Einstein\"   \n",
    "    }\n",
    "))"
   ]
  },
  {
   "cell_type": "code",
   "execution_count": 13,
   "metadata": {},
   "outputs": [],
   "source": [
    "chain = prompt | groq_model.bind(stop=['END']) | output_parser"
   ]
  },
  {
   "cell_type": "code",
   "execution_count": 14,
   "metadata": {},
   "outputs": [
    {
     "name": "stdout",
     "output_type": "stream",
     "text": [
      "Here's a curious fact about Albert Einstein:\n",
      "\n",
      "**Einstein's brain was stolen after his death and was studied for its unusual structure!**\n",
      "\n",
      "In 1955, after Einstein passed away, his brain was removed by the pathologist Thomas Harvey without the permission of his family. Harvey was fascinated by the possibility that Einstein's brain might hold some secrets to his extraordinary intelligence and creativity. He preserved the brain and sectioned it into 240 blocks, which he then distributed to various researchers around the world.\n",
      "\n",
      "Studies of Einstein's brain have revealed some interesting differences from the average human brain. For example, his brain was found to have:\n",
      "\n",
      "* A higher-than-average number of glial cells, which are responsible for nourishing and supporting neurons.\n",
      "* A larger-than-average corpus callosum, which connects the two hemispheres of the brain and facilitates communication between them.\n",
      "* Unusual patterns of neural connections and folds in certain areas of the brain, which may have contributed to his exceptional problem-solving abilities.\n",
      "\n",
      "These findings have sparked ongoing research into the neural basis of intelligence and creativity, and have even inspired new approaches to understanding the workings of the human brain.\n",
      "\n",
      "Isn't that a curious and fascinating fact about one of the greatest minds in history?\n"
     ]
    }
   ],
   "source": [
    "print(\n",
    "    chain.invoke(\n",
    "        {\n",
    "            \"person\": \"Albert Einstein\"\n",
    "        }\n",
    "    )\n",
    ")"
   ]
  },
  {
   "cell_type": "code",
   "execution_count": null,
   "metadata": {},
   "outputs": [],
   "source": []
  },
  {
   "cell_type": "code",
   "execution_count": null,
   "metadata": {},
   "outputs": [],
   "source": []
  }
 ],
 "metadata": {
  "kernelspec": {
   "display_name": "langchaingroq",
   "language": "python",
   "name": "python3"
  },
  "language_info": {
   "codemirror_mode": {
    "name": "ipython",
    "version": 3
   },
   "file_extension": ".py",
   "mimetype": "text/x-python",
   "name": "python",
   "nbconvert_exporter": "python",
   "pygments_lexer": "ipython3",
   "version": "3.10.0"
  }
 },
 "nbformat": 4,
 "nbformat_minor": 2
}
