{
 "cells": [
  {
   "cell_type": "code",
   "execution_count": 3,
   "metadata": {},
   "outputs": [
    {
     "data": {
      "text/plain": [
       "'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'"
      ]
     },
     "execution_count": 3,
     "metadata": {},
     "output_type": "execute_result"
    }
   ],
   "source": [
    "from langchain_groq import ChatGroq\n",
    "from langchain.prompts import PromptTemplate\n",
    "from langchain.chains import LLMChain\n",
    "from dotenv import load_dotenv\n",
    "import os\n",
    "load_dotenv()\n",
    "groq_key = os.getenv(\"GROQ\")\n",
    "groq_key"
   ]
  },
  {
   "cell_type": "code",
   "execution_count": 2,
   "metadata": {},
   "outputs": [],
   "source": [
    "groq_model = ChatGroq(\n",
    "    model=\"llama3-70b-8192\",\n",
    "    groq_api_key=groq_key)"
   ]
  },
  {
   "cell_type": "code",
   "execution_count": 4,
   "metadata": {},
   "outputs": [
    {
     "name": "stderr",
     "output_type": "stream",
     "text": [
      "C:\\Users\\Bichu George\\AppData\\Local\\Temp\\ipykernel_17092\\3906855852.py:5: LangChainDeprecationWarning: The class `LLMChain` was deprecated in LangChain 0.1.17 and will be removed in 1.0. Use :meth:`~RunnableSequence, e.g., `prompt | llm`` instead.\n",
      "  chain = LLMChain(\n",
      "C:\\Users\\Bichu George\\AppData\\Local\\Temp\\ipykernel_17092\\3906855852.py:9: LangChainDeprecationWarning: The method `Chain.run` was deprecated in langchain 0.1.0 and will be removed in 1.0. Use :meth:`~invoke` instead.\n",
      "  name = chain.run(\"Indian\")\n"
     ]
    },
    {
     "name": "stdout",
     "output_type": "stream",
     "text": [
      "What a great idea! Here are some fancy name suggestions for your Indian restaurant:\n",
      "\n",
      "1. **Taste of Taj**: Inspired by the iconic Taj Mahal, this name evokes the richness and grandeur of Indian cuisine.\n",
      "2. **Dhaba Royale**: \"Dhaba\" is a traditional Indian roadside eatery, adding \"Royale\" gives it a luxurious twist, suggesting a regal dining experience.\n",
      "3. **Spice Route**: This name takes you on a journey along the ancient spice routes that connected India to the world, promising a flavorful adventure.\n",
      "4. **Maharaja's Table**: \"Maharaja\" means \"great king\" in Hindi, implying a majestic culinary experience fit for royalty.\n",
      "5. **Garam Glamour**: \"Garam\" means \"hot\" or \"warm\" in Hindi, paired with \"Glamour\" to convey a sophisticated, stylish dining experience with a focus on Indian spices.\n",
      "6. **Saffron Palace**: Saffron is a prized spice in Indian cuisine, and \"Palace\" suggests an opulent setting, perfect for a special occasion or romantic dinner.\n",
      "7. **Bombay Bazaar**: \"Bombay\" is the former name of Mumbai, India's financial capital, and \"Bazaar\" evokes the vibrant, colorful markets of India, promising a lively dining experience.\n",
      "8. **Kohinoor Kitchen**: \"Kohinoor\" is a famous Indian diamond, symbolizing luxury and excellence, paired with \"Kitchen\" to emphasize the heart of your restaurant.\n",
      "9. **Rani's Rasoi**: \"Rani\" means \"queen\" in Hindi, and \"Rasoi\" means \"kitchen,\" suggesting a warm, regal welcome and a focus on traditional Indian cooking.\n",
      "10. **Darbar**: \"Darbar\" means \"royal court\" in Hindi, implying a majestic, sophisticated dining experience that's fit for a king.\n",
      "\n",
      "Choose the one that resonates with your vision, and I'm sure your restaurant will be a huge success!\n"
     ]
    }
   ],
   "source": [
    "prompt_template_name = PromptTemplate(\n",
    "    input_variables=['cuisine'],\n",
    "    template=\"I want to open a restaurant for {cuisine} food. Suggest a fancy name for this.\"\n",
    ")\n",
    "chain = LLMChain(\n",
    "    llm=groq_model,\n",
    "    prompt=prompt_template_name\n",
    ")\n",
    "name = chain.run(\"Indian\")\n",
    "print(name)"
   ]
  },
  {
   "cell_type": "code",
   "execution_count": 5,
   "metadata": {},
   "outputs": [
    {
     "name": "stdout",
     "output_type": "stream",
     "text": [
      "What a great idea! Here are some fancy name suggestions for your American cuisine restaurant:\n",
      "\n",
      "1. **Liberty Bistro**: Inspired by the Statue of Liberty, this name embodies the spirit of American freedom and cuisine.\n",
      "2. **Stars & Stripes Grill**: A playful nod to the American flag, this name is sure to evoke patriotism and appetite.\n",
      "3. **The Foundry**: This name references the country's rich history and the idea of \"founding\" a new culinary tradition.\n",
      "4. **Red, White, & Delicious**: A whimsical name that celebrates the colors of the American flag and the flavors of its cuisine.\n",
      "5. **Pioneer's Table**: This name pays homage to the pioneering spirit of American settlers and the idea of gathering around the table for a delicious meal.\n",
      "6. **Freedom Fare**: Another name that references American independence and the wide range of flavors on offer.\n",
      "7. **The American Harvest**: This name highlights the country's rich agricultural heritage and the fresh, seasonal ingredients used in your restaurant.\n",
      "8. **Betsy's Kitchen**: A nod to Betsy Ross, the seamstress who created the first American flag, this name adds a touch of warmth and hospitality to your restaurant.\n",
      "9. **The Constitution Café**: A sophisticated name that references the foundation of American democracy and the idea of gathering for a meal.\n",
      "10. **Heartland Eats**: This name celebrates the country's heartland and the comforting, down-to-earth flavors of American cuisine.\n",
      "\n",
      "Choose the one that resonates with your vision and cuisine, and good luck with your restaurant venture!\n"
     ]
    }
   ],
   "source": [
    "name = chain.run(\"America\")\n",
    "print(name)"
   ]
  },
  {
   "cell_type": "code",
   "execution_count": 6,
   "metadata": {},
   "outputs": [
    {
     "name": "stdout",
     "output_type": "stream",
     "text": [
      "What a great idea! Here are some fancy name suggestions for your Australian cuisine restaurant:\n",
      "\n",
      "1. **Kanga Cove**: A playful name that references the iconic kangaroo, while \"Cove\" evokes a sense of a cozy, seaside eatery.\n",
      "2. **Walkabout Bistro**: \"Walkabout\" is an Australian term for a journey or adventure, which fits well with the idea of exploring new flavors. \"Bistro\" adds a touch of sophistication.\n",
      "3. **Sydney Cove Grill**: This name combines the famous Sydney Cove with \"Grill,\" implying a focus on high-quality meats and seafood.\n",
      "4. **Boomerang Bazaar**: \"Boomerang\" is an instantly recognizable Australian symbol, while \"Bazaar\" suggests a vibrant, lively atmosphere.\n",
      "5. **Outback Oasis**: This name transports customers to the heart of Australia's rugged Outback, with \"Oasis\" implying a welcoming, refreshing dining experience.\n",
      "6. **Kakadu Kitchen**: \"Kakadu\" references the famous Kakadu National Park, while \"Kitchen\" emphasizes the importance of fresh, locally sourced ingredients.\n",
      "7. **The Aussie Table**: Simple, yet effective, this name proudly claims the restaurant's Australian heritage and invites customers to gather around the table.\n",
      "8. **Corroboree Café**: \"Corroboree\" is an indigenous Australian term for a gathering or celebration, which fits well with the idea of sharing meals with friends and family.\n",
      "9. **Blue Mountain Bistro**: This name references the picturesque Blue Mountains of New South Wales, adding a touch of elegance and sophistication.\n",
      "10. **Surf & Turf Australia**: This name highlights the restaurant's focus on both seafood and meat dishes, with \"Australia\" proudly claiming its culinary heritage.\n",
      "\n",
      "Choose the one that resonates with your vision and target audience!\n"
     ]
    }
   ],
   "source": [
    "name = chain.run(\"Australia\")\n",
    "print(name)"
   ]
  },
  {
   "cell_type": "code",
   "execution_count": 9,
   "metadata": {},
   "outputs": [],
   "source": [
    "chain.memory\n",
    "## it in None now."
   ]
  },
  {
   "cell_type": "code",
   "execution_count": 10,
   "metadata": {},
   "outputs": [],
   "source": [
    "from langchain.memory import ConversationBufferMemory"
   ]
  },
  {
   "cell_type": "code",
   "execution_count": 15,
   "metadata": {},
   "outputs": [],
   "source": [
    "memory = ConversationBufferMemory()\n",
    "chain_memory = LLMChain(\n",
    "    llm=groq_model,\n",
    "    prompt=prompt_template_name,\n",
    "    memory=memory\n",
    ")"
   ]
  },
  {
   "cell_type": "code",
   "execution_count": 19,
   "metadata": {},
   "outputs": [
    {
     "name": "stdout",
     "output_type": "stream",
     "text": [
      "What a great idea! Here are some fancy name suggestions for your Indian restaurant:\n",
      "\n",
      "1. **Tandoor Mahal**: \"Tandoor\" refers to the traditional Indian clay oven, and \"Mahal\" means palace, evoking a sense of luxury and grandeur.\n",
      "2. **Dhaba Royale**: \"Dhaba\" is a traditional Punjabi eatery, and \"Royale\" adds a touch of elegance and sophistication.\n",
      "3. **Spice Route**: This name takes inspiration from the ancient spice trade routes that connected India to the rest of the world, conveying a sense of exoticism and adventure.\n",
      "4. **Garam Gourmet**: \"Garam\" means hot or warm in Hindi, and \"Gourmet\" emphasizes the high-end quality of your restaurant.\n",
      "5. **Mumbai Mansion**: This name pays homage to India's vibrant city of Mumbai, while \"Mansion\" suggests a luxurious dining experience.\n",
      "6. **Rasoi**: \"Rasoi\" means kitchen in Hindi, but it also has a regal, upscale feel to it, making it a fitting name for a fancy Indian restaurant.\n",
      "7. **Jewel of India**: This name highlights the rich cultural heritage and beauty of India, promising a dining experience that's truly precious.\n",
      "8. **Tamarind Tree**: \"Tamarind\" is a popular Indian ingredient, and \"Tree\" symbolizes growth, abundance, and a connection to nature.\n",
      "9. **Maharaja's Table**: \"Maharaja\" means king or emperor, and \"Table\" emphasizes the idea of gathering around to share a meal, conveying a sense of opulence and hospitality.\n",
      "10. **Saffron & Sage**: \"Saffron\" is a prized Indian spice, and \"Sage\" adds a touch of wisdom and sophistication, suggesting a refined and elegant dining experience.\n",
      "\n",
      "Choose the one that resonates with your vision and cuisine, and good luck with your restaurant venture!\n",
      "Here are some fancy name suggestions for your American food restaurant:\n",
      "\n",
      "1. **Liberty Bistro**: Inspired by the iconic Statue of Liberty, this name evokes a sense of freedom and American heritage.\n",
      "2. **Stars & Stripes Grill**: A playful nod to the American flag, this name is sure to grab attention and evoke a sense of patriotism.\n",
      "3. **The American Dream Kitchen**: This name taps into the idea of the American Dream, conveying a sense of optimism and promise.\n",
      "4. **Red, White, & Bistro**: A clever play on the colors of the American flag, this name is catchy and memorable.\n",
      "5. **Founding Flavors**: This name pays homage to the country's founding fathers and suggests a deep respect for American culinary traditions.\n",
      "6. **Patriot's Table**: This name conveys a sense of community and gathering, perfect for a restaurant that aims to bring people together.\n",
      "7. **Yankee Fare**: \"Yankee\" is a colloquial term for people from the Northeastern United States, adding a touch of regional flair to this name.\n",
      "8. **Freedom Fork**: This name combines the idea of freedom with the utensil used to enjoy great food, making for a clever and catchy title.\n",
      "9. **American Craft Co.**: This name highlights the artisanal aspect of American cuisine, suggesting a focus on high-quality, carefully crafted dishes.\n",
      "10. **Heartland Harvest**: This name evokes the idea of the American heartland, conveying a sense of warmth, comfort, and abundance.\n",
      "\n",
      "Choose the one that resonates with your vision and target audience, and good luck with your restaurant venture!\n",
      "What a great idea! Australian cuisine is amazing! Here are some fancy name suggestions for your Australian-themed restaurant:\n",
      "\n",
      "1. **Kakadu Kitchen**: Named after the famous Kakadu National Park in Australia, this name evokes a sense of exotic adventure and culinary exploration.\n",
      "2. **Sydney Cove Bistro**: This name pays homage to the iconic Sydney Cove, a picturesque harbor in Sydney, and \"bistro\" adds a touch of elegance and sophistication.\n",
      "3. **Boomerang Brasserie**: \"Boomerang\" is an instantly recognizable Australian symbol, and \"brasserie\" implies a high-end dining experience.\n",
      "4. **Outback Oasis**: This name conjures up images of a lush, secluded retreat in the Australian outback, perfect for a restaurant that serves up hearty, comforting dishes.\n",
      "5. **Tasmanian Table**: Tasmania is known for its rugged beauty and exceptional food scene, making this name a great choice for a restaurant that celebrates Australian cuisine.\n",
      "6. **Walkabout Grill**: \"Walkabout\" is an Australian term for a journey or adventure, and \"grill\" suggests a focus on delicious, char-grilled meats.\n",
      "7. **Coastal Catch**: This name highlights Australia's stunning coastline and the fresh seafood that's often associated with it.\n",
      "8. **Billabong Bistro**: A \"billabong\" is a type of oxbow lake found in Australia, and \"bistro\" adds a touch of elegance to this name.\n",
      "9. **Melbourne Maison**: Melbourne is known for its cultural and culinary sophistication, making this name a great choice for a restaurant that serves up refined Australian cuisine.\n",
      "10. **Koala Kitchen & Bar**: Who can resist a cute koala? This name is sure to attract attention and put a smile on customers' faces.\n",
      "\n",
      "Choose the one that resonates with your vision and menu, and good luck with your restaurant venture!\n"
     ]
    }
   ],
   "source": [
    "name = chain_memory.run(\"Indian\")\n",
    "print(name)\n",
    "name = chain_memory.run(\"American\")\n",
    "print(name)\n",
    "name = chain_memory.run(\"Austrailian\")\n",
    "print(name)"
   ]
  },
  {
   "cell_type": "code",
   "execution_count": null,
   "metadata": {},
   "outputs": [
    {
     "name": "stdout",
     "output_type": "stream",
     "text": [
      "Human: Indian\n",
      "AI: What a great idea! Here are some fancy name suggestions for your Indian restaurant:\n",
      "\n",
      "1. **Tandoor Mahal**: \"Tandoor\" refers to the traditional Indian clay oven, and \"Mahal\" means palace, evoking a sense of luxury and grandeur.\n",
      "2. **Dhaba Royale**: \"Dhaba\" is a traditional Punjabi eatery, and \"Royale\" adds a touch of elegance and sophistication.\n",
      "3. **Spice Route**: This name takes inspiration from the ancient spice trade routes that connected India to the rest of the world, conveying a sense of exoticism and adventure.\n",
      "4. **Garam Gourmet**: \"Garam\" means hot or warm in Hindi, and \"Gourmet\" emphasizes the high-end quality of your restaurant.\n",
      "5. **Mumbai Mansion**: This name pays homage to India's vibrant city of Mumbai, while \"Mansion\" suggests a luxurious dining experience.\n",
      "6. **Rasoi**: \"Rasoi\" means kitchen in Hindi, but it also has a regal, upscale feel to it, making it a fitting name for a fancy Indian restaurant.\n",
      "7. **Jewel of India**: This name highlights the rich cultural heritage and beauty of India, promising a dining experience that's truly precious.\n",
      "8. **Tamarind Tree**: \"Tamarind\" is a popular Indian ingredient, and \"Tree\" symbolizes growth, abundance, and a connection to nature.\n",
      "9. **Maharaja's Table**: \"Maharaja\" means king or emperor, and \"Table\" emphasizes the idea of gathering around to share a meal, conveying a sense of opulence and hospitality.\n",
      "10. **Saffron & Sage**: \"Saffron\" is a prized Indian spice, and \"Sage\" adds a touch of wisdom and sophistication, suggesting a refined and elegant dining experience.\n",
      "\n",
      "Choose the one that resonates with your vision and cuisine, and good luck with your restaurant venture!\n",
      "Human: American\n",
      "AI: Here are some fancy name suggestions for your American food restaurant:\n",
      "\n",
      "1. **Liberty Bistro**: Inspired by the iconic Statue of Liberty, this name evokes a sense of freedom and American heritage.\n",
      "2. **Stars & Stripes Grill**: A playful nod to the American flag, this name is sure to grab attention and evoke a sense of patriotism.\n",
      "3. **The American Dream Kitchen**: This name taps into the idea of the American Dream, conveying a sense of optimism and promise.\n",
      "4. **Red, White, & Bistro**: A clever play on the colors of the American flag, this name is catchy and memorable.\n",
      "5. **Founding Flavors**: This name pays homage to the country's founding fathers and suggests a deep respect for American culinary traditions.\n",
      "6. **Patriot's Table**: This name conveys a sense of community and gathering, perfect for a restaurant that aims to bring people together.\n",
      "7. **Yankee Fare**: \"Yankee\" is a colloquial term for people from the Northeastern United States, adding a touch of regional flair to this name.\n",
      "8. **Freedom Fork**: This name combines the idea of freedom with the utensil used to enjoy great food, making for a clever and catchy title.\n",
      "9. **American Craft Co.**: This name highlights the artisanal aspect of American cuisine, suggesting a focus on high-quality, carefully crafted dishes.\n",
      "10. **Heartland Harvest**: This name evokes the idea of the American heartland, conveying a sense of warmth, comfort, and abundance.\n",
      "\n",
      "Choose the one that resonates with your vision and target audience, and good luck with your restaurant venture!\n",
      "Human: Austrailian\n",
      "AI: What a great idea! Australian cuisine is amazing! Here are some fancy name suggestions for your Australian-themed restaurant:\n",
      "\n",
      "1. **Kakadu Kitchen**: Named after the famous Kakadu National Park in Australia, this name evokes a sense of exotic adventure and culinary exploration.\n",
      "2. **Sydney Cove Bistro**: This name pays homage to the iconic Sydney Cove, a picturesque harbor in Sydney, and \"bistro\" adds a touch of elegance and sophistication.\n",
      "3. **Boomerang Brasserie**: \"Boomerang\" is an instantly recognizable Australian symbol, and \"brasserie\" implies a high-end dining experience.\n",
      "4. **Outback Oasis**: This name conjures up images of a lush, secluded retreat in the Australian outback, perfect for a restaurant that serves up hearty, comforting dishes.\n",
      "5. **Tasmanian Table**: Tasmania is known for its rugged beauty and exceptional food scene, making this name a great choice for a restaurant that celebrates Australian cuisine.\n",
      "6. **Walkabout Grill**: \"Walkabout\" is an Australian term for a journey or adventure, and \"grill\" suggests a focus on delicious, char-grilled meats.\n",
      "7. **Coastal Catch**: This name highlights Australia's stunning coastline and the fresh seafood that's often associated with it.\n",
      "8. **Billabong Bistro**: A \"billabong\" is a type of oxbow lake found in Australia, and \"bistro\" adds a touch of elegance to this name.\n",
      "9. **Melbourne Maison**: Melbourne is known for its cultural and culinary sophistication, making this name a great choice for a restaurant that serves up refined Australian cuisine.\n",
      "10. **Koala Kitchen & Bar**: Who can resist a cute koala? This name is sure to attract attention and put a smile on customers' faces.\n",
      "\n",
      "Choose the one that resonates with your vision and menu, and good luck with your restaurant venture!\n"
     ]
    }
   ],
   "source": [
    "print(chain_memory.memory.buffer)\n",
    "## Remembers all the earlier questions"
   ]
  },
  {
   "cell_type": "code",
   "execution_count": 24,
   "metadata": {},
   "outputs": [
    {
     "name": "stdout",
     "output_type": "stream",
     "text": [
      "The following is a friendly conversation between a human and an AI. The AI is talkative and provides lots of specific details from its context. If the AI does not know the answer to a question, it truthfully says it does not know.\n",
      "\n",
      "Current conversation:\n",
      "{history}\n",
      "Human: {input}\n",
      "AI:\n"
     ]
    }
   ],
   "source": [
    "## Conversation to the model\n",
    "\n",
    "from langchain.chains import ConversationChain\n",
    "convo = ConversationChain(\n",
    "    llm=groq_model\n",
    ")\n",
    "print(convo.prompt.template)"
   ]
  },
  {
   "cell_type": "code",
   "execution_count": 26,
   "metadata": {},
   "outputs": [
    {
     "name": "stdout",
     "output_type": "stream",
     "text": [
      "I think we've already had this conversation! As I mentioned earlier, the older name of India is a fascinating topic. One of the most well-known older names of India is \"Bharatvarsha\" or simply \"Bharat\". This name is derived from the ancient Hindu text, the Mahabharata, and is still used as an official name of the country in many Indian languages.\n",
      "\n",
      "Another older name of India is \"Hindustan\", which was commonly used during the Mughal Empire and the British colonial period. This name is derived from the Persian words \"Hind\" meaning \"land of the Indus River\" and \"stan\" meaning \"land\" or \"country\".\n",
      "\n",
      "There are other older names of India as well, such as \"Aryavarta\" and \"Jambudvipa\", which were used in ancient Hindu and Buddhist texts. However, \"Bharat\" and \"Hindustan\" are the most well-known and widely used older names of India.\n",
      "\n",
      "Would you like to know more about the history and significance of these names?\n",
      "The capital of India is a great topic! The capital of India is New Delhi. Did you know that New Delhi is a planned city, designed by the British architects Edwin Lutyens and Herbert Baker? It was officially declared the capital of India in 1927, and it's home to many iconic landmarks like the India Gate, the Rashtrapati Bhavan (the President's House), and the Parliament of India.\n",
      "\n",
      "New Delhi is located in the National Capital Territory of Delhi (NCT), which is a union territory that's not part of any state in India. The city has a rich history, dating back to the 1st millennium BC, and it has been ruled by various empires, including the Mauryan Empire, the Gupta Empire, and the Mughal Empire.\n",
      "\n",
      "Today, New Delhi is a bustling metropolis with a population of over 29 million people, making it one of the most populous cities in the world. It's a hub for politics, culture, and economy, and it's known for its vibrant street food, colorful markets, and rich cultural heritage.\n",
      "\n",
      "Would you like to know more about the history and attractions of New Delhi?\n",
      "The currency of India is a great topic! The official currency of India is the Indian Rupee (INR). Did you know that the Indian Rupee is one of the oldest currencies in the world, with a history dating back to the 6th century BC?\n",
      "\n",
      "The Indian Rupee is issued and managed by the Reserve Bank of India (RBI), the central bank of India. The currency is subdivided into 100 smaller units called paise, although paise are no longer in circulation.\n",
      "\n",
      "The Indian Rupee is available in various denominations, including coins of 1, 2, 5, and 10 rupees, and banknotes of 2, 5, 10, 20, 50, 100, 200, 500, and 2000 rupees. The most widely used denominations are the 10, 20, 50, and 100 rupee notes.\n",
      "\n",
      "The design of the Indian Rupee currency is a fascinating topic! The banknotes feature images of India's cultural and historical heritage, such as the Mahatma Gandhi series, which features a portrait of Mahatma Gandhi on the obverse side and various Indian monuments and symbols on the reverse side.\n",
      "\n",
      "Would you like to know more about the history and design of the Indian Rupee currency?\n",
      "The currency of America is a great topic! The official currency of the United States of America is the United States dollar (USD). Did you know that the US dollar is one of the most widely traded and widely held currencies in the world?\n",
      "\n",
      "The US dollar is issued and managed by the Federal Reserve, the central bank of the United States. The currency is subdivided into 100 smaller units called cents.\n",
      "\n",
      "The US dollar is available in various denominations, including coins of 1, 5, 10, 25, 50 cents, and 1 dollar, and banknotes of 1, 2, 5, 10, 20, 50, and 100 dollars. The most widely used denominations are the 1, 5, 10, and 20 dollar bills.\n",
      "\n",
      "The design of the US dollar currency is a fascinating topic! The banknotes feature images of famous American figures, such as George Washington on the $1 bill, Abraham Lincoln on the $5 bill, and Benjamin Franklin on the $100 bill. The obverse side of the coins features the profile of a prominent American figure, while the reverse side features an iconic American symbol, such as the Lincoln Memorial or the American eagle.\n",
      "\n",
      "Would you like to know more about the history and design of the US dollar currency?\n"
     ]
    }
   ],
   "source": [
    "print(convo.run(\"What is the older name of India\"))\n",
    "print(convo.run(\"What is the capital of India\"))\n",
    "print(convo.run(\"What is the currency of India\"))\n",
    "print(convo.run(\"What is the currency of America\"))\n"
   ]
  },
  {
   "cell_type": "code",
   "execution_count": 27,
   "metadata": {},
   "outputs": [
    {
     "name": "stdout",
     "output_type": "stream",
     "text": [
      "Human: What is the older name of India\n",
      "AI: The older name of India is a fascinating topic. Did you know that India was known by several names in the past? One of the most well-known older names of India is \"Bharatvarsha\" or simply \"Bharat\". This name is derived from the ancient Hindu text, the Mahabharata, and is still used as an official name of the country in many Indian languages.\n",
      "\n",
      "Another older name of India is \"Hindustan\", which was commonly used during the Mughal Empire and the British colonial period. This name is derived from the Persian words \"Hind\" meaning \"land of the Indus River\" and \"stan\" meaning \"land\" or \"country\".\n",
      "\n",
      "There are other older names of India as well, such as \"Aryavarta\" and \"Jambudvipa\", which were used in ancient Hindu and Buddhist texts. However, \"Bharat\" and \"Hindustan\" are the most well-known and widely used older names of India.\n",
      "\n",
      "Would you like to know more about the history and significance of these names?\n",
      "Human: What is the older name of India\n",
      "AI: I think we've already had this conversation! As I mentioned earlier, the older name of India is a fascinating topic. One of the most well-known older names of India is \"Bharatvarsha\" or simply \"Bharat\". This name is derived from the ancient Hindu text, the Mahabharata, and is still used as an official name of the country in many Indian languages.\n",
      "\n",
      "Another older name of India is \"Hindustan\", which was commonly used during the Mughal Empire and the British colonial period. This name is derived from the Persian words \"Hind\" meaning \"land of the Indus River\" and \"stan\" meaning \"land\" or \"country\".\n",
      "\n",
      "There are other older names of India as well, such as \"Aryavarta\" and \"Jambudvipa\", which were used in ancient Hindu and Buddhist texts. However, \"Bharat\" and \"Hindustan\" are the most well-known and widely used older names of India.\n",
      "\n",
      "Would you like to know more about the history and significance of these names?\n",
      "Human: What is the capital of India\n",
      "AI: The capital of India is a great topic! The capital of India is New Delhi. Did you know that New Delhi is a planned city, designed by the British architects Edwin Lutyens and Herbert Baker? It was officially declared the capital of India in 1927, and it's home to many iconic landmarks like the India Gate, the Rashtrapati Bhavan (the President's House), and the Parliament of India.\n",
      "\n",
      "New Delhi is located in the National Capital Territory of Delhi (NCT), which is a union territory that's not part of any state in India. The city has a rich history, dating back to the 1st millennium BC, and it has been ruled by various empires, including the Mauryan Empire, the Gupta Empire, and the Mughal Empire.\n",
      "\n",
      "Today, New Delhi is a bustling metropolis with a population of over 29 million people, making it one of the most populous cities in the world. It's a hub for politics, culture, and economy, and it's known for its vibrant street food, colorful markets, and rich cultural heritage.\n",
      "\n",
      "Would you like to know more about the history and attractions of New Delhi?\n",
      "Human: What is the currency of India\n",
      "AI: The currency of India is a great topic! The official currency of India is the Indian Rupee (INR). Did you know that the Indian Rupee is one of the oldest currencies in the world, with a history dating back to the 6th century BC?\n",
      "\n",
      "The Indian Rupee is issued and managed by the Reserve Bank of India (RBI), the central bank of India. The currency is subdivided into 100 smaller units called paise, although paise are no longer in circulation.\n",
      "\n",
      "The Indian Rupee is available in various denominations, including coins of 1, 2, 5, and 10 rupees, and banknotes of 2, 5, 10, 20, 50, 100, 200, 500, and 2000 rupees. The most widely used denominations are the 10, 20, 50, and 100 rupee notes.\n",
      "\n",
      "The design of the Indian Rupee currency is a fascinating topic! The banknotes feature images of India's cultural and historical heritage, such as the Mahatma Gandhi series, which features a portrait of Mahatma Gandhi on the obverse side and various Indian monuments and symbols on the reverse side.\n",
      "\n",
      "Would you like to know more about the history and design of the Indian Rupee currency?\n",
      "Human: What is the currency of America\n",
      "AI: The currency of America is a great topic! The official currency of the United States of America is the United States dollar (USD). Did you know that the US dollar is one of the most widely traded and widely held currencies in the world?\n",
      "\n",
      "The US dollar is issued and managed by the Federal Reserve, the central bank of the United States. The currency is subdivided into 100 smaller units called cents.\n",
      "\n",
      "The US dollar is available in various denominations, including coins of 1, 5, 10, 25, 50 cents, and 1 dollar, and banknotes of 1, 2, 5, 10, 20, 50, and 100 dollars. The most widely used denominations are the 1, 5, 10, and 20 dollar bills.\n",
      "\n",
      "The design of the US dollar currency is a fascinating topic! The banknotes feature images of famous American figures, such as George Washington on the $1 bill, Abraham Lincoln on the $5 bill, and Benjamin Franklin on the $100 bill. The obverse side of the coins features the profile of a prominent American figure, while the reverse side features an iconic American symbol, such as the Lincoln Memorial or the American eagle.\n",
      "\n",
      "Would you like to know more about the history and design of the US dollar currency?\n"
     ]
    }
   ],
   "source": [
    "print(convo.memory.buffer)"
   ]
  },
  {
   "cell_type": "code",
   "execution_count": 28,
   "metadata": {},
   "outputs": [],
   "source": [
    "## We donot want to remember full history.\n",
    "from langchain.memory import ConversationBufferWindowMemory\n"
   ]
  },
  {
   "cell_type": "code",
   "execution_count": 29,
   "metadata": {},
   "outputs": [
    {
     "name": "stderr",
     "output_type": "stream",
     "text": [
      "C:\\Users\\Bichu George\\AppData\\Local\\Temp\\ipykernel_17092\\1829182954.py:1: LangChainDeprecationWarning: Please see the migration guide at: https://python.langchain.com/docs/versions/migrating_memory/\n",
      "  memory_window = ConversationBufferWindowMemory(k=2)\n"
     ]
    }
   ],
   "source": [
    "memory_window = ConversationBufferWindowMemory(k=2)\n",
    "convo_window = ConversationChain(\n",
    "    llm=groq_model,\n",
    "    memory=memory_window\n",
    ")"
   ]
  },
  {
   "cell_type": "code",
   "execution_count": 30,
   "metadata": {},
   "outputs": [
    {
     "name": "stdout",
     "output_type": "stream",
     "text": [
      "The older name of India is a fascinating topic. Did you know that the name \"India\" is derived from the Indus River, which was called \"Sindhu\" in Sanskrit? The ancient Greeks referred to the region as \"Indos,\" and the Persians called it \"Hindustan.\" However, the older name of India that you might be thinking of is \"Bharatvarsha\" or simply \"Bharat.\" This name is mentioned in the ancient Hindu scriptures, the Vedas, and is still used as an official name of the Republic of India. In fact, the Indian government's website is even named \"bharat.gov.in\"!\n",
      "That's an easy one! The capital of India is New Delhi. In fact, New Delhi is a planned city, designed by the British architects Edwin Lutyens and Herbert Baker in 1912. It was officially inaugurated as the capital of British India in 1927, and after India gained independence in 1947, it continued to serve as the capital of the Republic of India. Did you know that New Delhi is home to many iconic landmarks, including the India Gate, the Rashtrapati Bhavan, and the Qutub Minar, which is a UNESCO World Heritage Site?\n",
      "The currency of India is the Indian Rupee (INR). Did you know that the Indian Rupee is one of the oldest currencies in the world, with a history dating back to the 6th century BC? The modern Indian Rupee is issued by the Reserve Bank of India, the central bank of India. The currency is available in denominations of 1, 2, 5, 10, 20, 50, 100, 200, 500, and 2000 rupees. Interestingly, the Indian Rupee is also used as a reserve currency in Bhutan and Nepal, and is widely accepted in other countries in the region.\n",
      "That's an easy one! The currency of the United States of America is the United States Dollar (USD). Did you know that the US Dollar is one of the most widely traded and widely held currencies in the world? It's issued by the Federal Reserve, the central bank of the United States, and is available in denominations of 1, 2, 5, 10, 20, 50, and 100 dollars. Interestingly, the US Dollar is also widely used as a reserve currency globally, and is often used as a benchmark for international transactions. In fact, it's so widely accepted that it's often referred to as the \"global currency\"!\n"
     ]
    }
   ],
   "source": [
    "print(convo_window.run(\"What is the older name of India\"))\n",
    "print(convo_window.run(\"What is the capital of India\"))\n",
    "print(convo_window.run(\"What is the currency of India\"))\n",
    "print(convo_window.run(\"What is the currency of America\"))"
   ]
  },
  {
   "cell_type": "code",
   "execution_count": 31,
   "metadata": {},
   "outputs": [
    {
     "name": "stdout",
     "output_type": "stream",
     "text": [
      "Human: What is the currency of India\n",
      "AI: The currency of India is the Indian Rupee (INR). Did you know that the Indian Rupee is one of the oldest currencies in the world, with a history dating back to the 6th century BC? The modern Indian Rupee is issued by the Reserve Bank of India, the central bank of India. The currency is available in denominations of 1, 2, 5, 10, 20, 50, 100, 200, 500, and 2000 rupees. Interestingly, the Indian Rupee is also used as a reserve currency in Bhutan and Nepal, and is widely accepted in other countries in the region.\n",
      "Human: What is the currency of America\n",
      "AI: That's an easy one! The currency of the United States of America is the United States Dollar (USD). Did you know that the US Dollar is one of the most widely traded and widely held currencies in the world? It's issued by the Federal Reserve, the central bank of the United States, and is available in denominations of 1, 2, 5, 10, 20, 50, and 100 dollars. Interestingly, the US Dollar is also widely used as a reserve currency globally, and is often used as a benchmark for international transactions. In fact, it's so widely accepted that it's often referred to as the \"global currency\"!\n"
     ]
    }
   ],
   "source": [
    "print(convo_window.memory.buffer)"
   ]
  }
 ],
 "metadata": {
  "kernelspec": {
   "display_name": "langchaingroq",
   "language": "python",
   "name": "python3"
  },
  "language_info": {
   "codemirror_mode": {
    "name": "ipython",
    "version": 3
   },
   "file_extension": ".py",
   "mimetype": "text/x-python",
   "name": "python",
   "nbconvert_exporter": "python",
   "pygments_lexer": "ipython3",
   "version": "3.10.0"
  }
 },
 "nbformat": 4,
 "nbformat_minor": 2
}
